{
 "cells": [
  {
   "cell_type": "markdown",
   "metadata": {
    "colab_type": "text",
    "id": "rw-XTRg7Fas5"
   },
   "source": [
    "# NER Coding Challenge\n",
    "### In any text document, there are particular terms that represent specific entities that are more informative and have a unique context. These entities are known as named entities , which more specifically refer to terms that represent real-world objects like people, places, organizations, and so on, which are often denoted by proper names. A naive approach could be to find these by looking at the noun phrases in text documents. Named entity recognition (NER) , also known as entity chunking/extraction , is a popular technique used in information extraction to identify and segment the named entities and classify or categorize them under various predefined classes."
   ]
  },
  {
   "cell_type": "markdown",
   "metadata": {
    "colab_type": "text",
    "id": "xfgs0OS2Cj_8"
   },
   "source": [
    "# Overview of what has been implemented\n",
    "\n",
    "*   Data Exploration\n",
    "*   Simple classifiers - Perceptron, SGD Classifier, Multinomial Naive bayes\n",
    "*   Character based LSTM\n",
    "*   ELMO based residual LSTM\n",
    "*   Bonus question - Confidence score for predictions\n",
    "\n"
   ]
  },
  {
   "cell_type": "markdown",
   "metadata": {
    "colab_type": "text",
    "id": "ydoI0eA8GAh3"
   },
   "source": [
    "## 1 - Load the given training dataset"
   ]
  },
  {
   "cell_type": "code",
   "execution_count": 0,
   "metadata": {
    "colab": {},
    "colab_type": "code",
    "id": "9ypBodn_GFhJ"
   },
   "outputs": [],
   "source": [
    "import pandas as pd\n",
    "train_data = pd.read_csv(\"train.txt\", sep=\"\\t\", header=None,names=[\"Name\", \"Tag\"])"
   ]
  },
  {
   "cell_type": "markdown",
   "metadata": {
    "colab_type": "text",
    "id": "EFd8J_ndGQqG"
   },
   "source": [
    "## 1.1 - Understand what's there in the data - Exploratory Data Analysis\n",
    " First, the data is loaded into a Pandas DataFrame. This can be done easily using the read_csv function, specifying that the separator is a tab space."
   ]
  },
  {
   "cell_type": "code",
   "execution_count": 2,
   "metadata": {
    "colab": {
     "base_uri": "https://localhost:8080/",
     "height": 206
    },
    "colab_type": "code",
    "id": "uBXiLJJeGSln",
    "outputId": "215b0acb-8ed5-4d29-c715-3572666ec184"
   },
   "outputs": [
    {
     "data": {
      "text/html": [
       "<div>\n",
       "<style scoped>\n",
       "    .dataframe tbody tr th:only-of-type {\n",
       "        vertical-align: middle;\n",
       "    }\n",
       "\n",
       "    .dataframe tbody tr th {\n",
       "        vertical-align: top;\n",
       "    }\n",
       "\n",
       "    .dataframe thead th {\n",
       "        text-align: right;\n",
       "    }\n",
       "</style>\n",
       "<table border=\"1\" class=\"dataframe\">\n",
       "  <thead>\n",
       "    <tr style=\"text-align: right;\">\n",
       "      <th></th>\n",
       "      <th>Name</th>\n",
       "      <th>Tag</th>\n",
       "    </tr>\n",
       "  </thead>\n",
       "  <tbody>\n",
       "    <tr>\n",
       "      <th>0</th>\n",
       "      <td>@paulwalk</td>\n",
       "      <td>O</td>\n",
       "    </tr>\n",
       "    <tr>\n",
       "      <th>1</th>\n",
       "      <td>It</td>\n",
       "      <td>O</td>\n",
       "    </tr>\n",
       "    <tr>\n",
       "      <th>2</th>\n",
       "      <td>'s</td>\n",
       "      <td>O</td>\n",
       "    </tr>\n",
       "    <tr>\n",
       "      <th>3</th>\n",
       "      <td>the</td>\n",
       "      <td>O</td>\n",
       "    </tr>\n",
       "    <tr>\n",
       "      <th>4</th>\n",
       "      <td>view</td>\n",
       "      <td>O</td>\n",
       "    </tr>\n",
       "  </tbody>\n",
       "</table>\n",
       "</div>"
      ],
      "text/plain": [
       "        Name Tag\n",
       "0  @paulwalk   O\n",
       "1         It   O\n",
       "2         's   O\n",
       "3        the   O\n",
       "4       view   O"
      ]
     },
     "execution_count": 2,
     "metadata": {
      "tags": []
     },
     "output_type": "execute_result"
    }
   ],
   "source": [
    "train_data.head()"
   ]
  },
  {
   "cell_type": "markdown",
   "metadata": {
    "colab_type": "text",
    "id": "z0zD4FzgGWzb"
   },
   "source": [
    "### Are there any NaN rows? If yes, remove them.\n"
   ]
  },
  {
   "cell_type": "code",
   "execution_count": 3,
   "metadata": {
    "colab": {
     "base_uri": "https://localhost:8080/",
     "height": 35
    },
    "colab_type": "code",
    "id": "2YI_oadBGZlu",
    "outputId": "6c10cb4f-ae9f-45ac-92b5-081efd6c0c07"
   },
   "outputs": [
    {
     "name": "stdout",
     "output_type": "stream",
     "text": [
      "Number of Nan rows is 2168\n"
     ]
    }
   ],
   "source": [
    "nan_rows = train_data[train_data['Name'].isnull()]\n",
    "print(\"Number of Nan rows is %d\" %(len(nan_rows)))"
   ]
  },
  {
   "cell_type": "code",
   "execution_count": 4,
   "metadata": {
    "colab": {
     "base_uri": "https://localhost:8080/",
     "height": 35
    },
    "colab_type": "code",
    "id": "_2MO9cgNGbz3",
    "outputId": "1ee20505-aead-4e30-c62b-0e9088ed1c6c"
   },
   "outputs": [
    {
     "name": "stdout",
     "output_type": "stream",
     "text": [
      "New training data length is 55725\n"
     ]
    }
   ],
   "source": [
    "train_data = train_data.dropna()\n",
    "print(\"New training data length is %d\" %(len(train_data)))"
   ]
  },
  {
   "cell_type": "markdown",
   "metadata": {
    "colab_type": "text",
    "id": "eIgChcsBGiKa"
   },
   "source": [
    "### What are the entity tags?"
   ]
  },
  {
   "cell_type": "code",
   "execution_count": 5,
   "metadata": {
    "colab": {
     "base_uri": "https://localhost:8080/",
     "height": 386
    },
    "colab_type": "code",
    "id": "EJijl5DjGpkJ",
    "outputId": "99ca3a04-2ca4-4b4e-ac1a-11ff16003896"
   },
   "outputs": [
    {
     "name": "stdout",
     "output_type": "stream",
     "text": [
      "[['O', 52997], ['B-person', 566], ['B-location', 494], ['I-person', 288], ['B-group', 230], ['I-location', 226], ['B-corporation', 196], ['I-product', 163], ['I-creative-work', 150], ['I-group', 132], ['B-product', 130], ['B-creative-work', 110], ['I-corporation', 43]]\n"
     ]
    },
    {
     "data": {
      "image/png": "[encoded data removed]",
      "text/plain": [
       "<Figure size 432x288 with 1 Axes>"
      ]
     },
     "metadata": {
      "tags": []
     },
     "output_type": "display_data"
    }
   ],
   "source": [
    "tags_list = train_data.Tag.value_counts().reset_index().values.tolist()\n",
    "print(tags_list)\n",
    "import matplotlib.pyplot as plt\n",
    "tag_vals = [i[0] for i in tags_list]\n",
    "counts = [i[1] for i in tags_list]\n",
    "plt.bar(range(0,len(tag_vals)),counts)\n",
    "plt.xticks(range(0,len(tag_vals)), tag_vals, rotation='vertical')\n",
    "plt.xlabel(\"Tags\")\n",
    "plt.ylabel(\"Counts of tags\")\n",
    "plt.show()"
   ]
  },
  {
   "cell_type": "markdown",
   "metadata": {
    "colab_type": "text",
    "id": "lJckGFXuGtot"
   },
   "source": [
    "We see that the tags are in \"BIO\" format. BIO stands for Beginning, Inside and Outside (of a text segment). In a system that recognizes entity boundaries only, only three labels are used: B, I and O. What is also understood from the above output is that the tags are not evenly distributed. Since the class 'O' is more than the rest, we shall neglect it and make use of the remaining tags."
   ]
  },
  {
   "cell_type": "code",
   "execution_count": 6,
   "metadata": {
    "colab": {
     "base_uri": "https://localhost:8080/",
     "height": 386
    },
    "colab_type": "code",
    "id": "mTX2PdmOGxDy",
    "outputId": "283ddeff-6bc5-4a9e-d91f-44e27a567b9d"
   },
   "outputs": [
    {
     "name": "stdout",
     "output_type": "stream",
     "text": [
      "[['B-person', 566], ['B-location', 494], ['I-person', 288], ['B-group', 230], ['I-location', 226], ['B-corporation', 196], ['I-product', 163], ['I-creative-work', 150], ['I-group', 132], ['B-product', 130], ['B-creative-work', 110], ['I-corporation', 43]]\n"
     ]
    },
    {
     "data": {
      "image/png": "[encoded data removed]",
      "text/plain": [
       "<Figure size 432x288 with 1 Axes>"
      ]
     },
     "metadata": {
      "tags": []
     },
     "output_type": "display_data"
    }
   ],
   "source": [
    "tags_list.pop(0)\n",
    "print(tags_list)\n",
    "tag_vals = [i[0] for i in tags_list]\n",
    "counts = [i[1] for i in tags_list]\n",
    "plt.bar(range(0,len(tag_vals)),counts)\n",
    "plt.xticks(range(0,len(tag_vals)), tag_vals, rotation='vertical')\n",
    "plt.xlabel(\"Tags\")\n",
    "plt.ylabel(\"Counts of tags\")\n",
    "plt.show()"
   ]
  },
  {
   "cell_type": "markdown",
   "metadata": {
    "colab_type": "text",
    "id": "Jwxbi5uZG0VF"
   },
   "source": [
    "### What else is present in the dataset?\n"
   ]
  },
  {
   "cell_type": "code",
   "execution_count": 0,
   "metadata": {
    "colab": {},
    "colab_type": "code",
    "id": "fBTgzaSGG5Vv"
   },
   "outputs": [],
   "source": [
    "from collections import namedtuple, defaultdict\n",
    "Tag = namedtuple(\"Tag\", [\"token\", \"tag\"])\n",
    "def load_sequences(filename, sep=\"\\t\", notypes=False):\n",
    "    tag_count = defaultdict(int)\n",
    "    sequences = []\n",
    "    with open(filename) as fp:\n",
    "        seq = []\n",
    "        for line in fp:\n",
    "            line = line.strip()\n",
    "            if line:\n",
    "                line = line.split(sep)\n",
    "                if notypes:\n",
    "                    line[1] = line[1][0]\n",
    "                tag_count[line[1]] += 1\n",
    "                #print line\n",
    "                seq.append(Tag(*line))\n",
    "            else:\n",
    "                sequences.append(seq)\n",
    "                seq = []\n",
    "        if seq:\n",
    "            sequences.append(seq)\n",
    "    return sequences, tag_count\n",
    "sequences, tag_count = load_sequences(\"train.txt\", sep=\"\\t\")"
   ]
  },
  {
   "cell_type": "code",
   "execution_count": 0,
   "metadata": {
    "colab": {},
    "colab_type": "code",
    "id": "2t1dT7O7HR9C"
   },
   "outputs": [],
   "source": [
    "import re\n",
    "URL_REGEX = re.compile(r'^http[s]?://')\n",
    "assert URL_REGEX.match(\"http://Google.com\") is not None\n",
    "assert URL_REGEX.match(\"https://Google.com\") is not None\n",
    "assert URL_REGEX.match(\"abchttps://Google.com\") is None\n",
    "REPEATED_CHAR_REGEX=re.compile(r'^[\\.\\,!\\?\"\\':;_\\-]{2,}$')\n",
    "assert REPEATED_CHAR_REGEX.match(\"!\") is None\n",
    "assert REPEATED_CHAR_REGEX.match(\"!!\") is not None\n",
    "assert REPEATED_CHAR_REGEX.match(\"!?...!\") is not None\n",
    "assert REPEATED_CHAR_REGEX.match('\".') is not None\n",
    "assert REPEATED_CHAR_REGEX.match(\"aaaaa\") is None\n",
    "assert REPEATED_CHAR_REGEX.match('\\\".') is not None\n",
    "WORD_REGEX=re.compile(r'^([A-Za-z]+[\\'\\-\\.]?)+$')\n",
    "assert WORD_REGEX.match(\"ABC\") is not None\n",
    "assert WORD_REGEX.match(\"ABC-D\") is not None\n",
    "assert WORD_REGEX.match(\"ABC'D\") is not None\n",
    "assert WORD_REGEX.match(\"ABC.DFC.\") is not None\n",
    "assert WORD_REGEX.match(\"9-1\") is None\n",
    "assert WORD_REGEX.match(\"A.B.C\") is not None\n",
    "NUMBER_REGEX=re.compile(r'^(([0-9]*[.]?[0-9]+)|([0-9]+[,]?[0-9]+))$')\n",
    "assert NUMBER_REGEX.match(\"123\") is not None\n",
    "assert NUMBER_REGEX.match(\"123,4\") is not None\n",
    "assert NUMBER_REGEX.match(\"12.5\") is not None\n",
    "assert NUMBER_REGEX.match(\".5\") is not None\n",
    "assert NUMBER_REGEX.match(\"12-A\") is None\n",
    "assert NUMBER_REGEX.match(\",55\") is None\n",
    "assert NUMBER_REGEX.match(\"5.5.55\") is None"
   ]
  },
  {
   "cell_type": "code",
   "execution_count": 9,
   "metadata": {
    "colab": {
     "base_uri": "https://localhost:8080/",
     "height": 332
    },
    "colab_type": "code",
    "id": "JgLyMgxmHT_3",
    "outputId": "8d147abd-88bc-44c2-ee28-706b3dd6a6dd"
   },
   "outputs": [
    {
     "data": {
      "text/html": [
       "<div>\n",
       "<style scoped>\n",
       "    .dataframe tbody tr th:only-of-type {\n",
       "        vertical-align: middle;\n",
       "    }\n",
       "\n",
       "    .dataframe tbody tr th {\n",
       "        vertical-align: top;\n",
       "    }\n",
       "\n",
       "    .dataframe thead th {\n",
       "        text-align: right;\n",
       "    }\n",
       "</style>\n",
       "<table border=\"1\" class=\"dataframe\">\n",
       "  <thead>\n",
       "    <tr style=\"text-align: right;\">\n",
       "      <th></th>\n",
       "      <th>Type</th>\n",
       "      <th>Counts</th>\n",
       "    </tr>\n",
       "  </thead>\n",
       "  <tbody>\n",
       "    <tr>\n",
       "      <th>0</th>\n",
       "      <td>Words</td>\n",
       "      <td>48016</td>\n",
       "    </tr>\n",
       "    <tr>\n",
       "      <th>1</th>\n",
       "      <td>Other</td>\n",
       "      <td>8036</td>\n",
       "    </tr>\n",
       "    <tr>\n",
       "      <th>2</th>\n",
       "      <td>Mentions (@___)</td>\n",
       "      <td>1961</td>\n",
       "    </tr>\n",
       "    <tr>\n",
       "      <th>3</th>\n",
       "      <td>Repeated characters (...)</td>\n",
       "      <td>1229</td>\n",
       "    </tr>\n",
       "    <tr>\n",
       "      <th>4</th>\n",
       "      <td>Numbers</td>\n",
       "      <td>1218</td>\n",
       "    </tr>\n",
       "    <tr>\n",
       "      <th>5</th>\n",
       "      <td>URLs</td>\n",
       "      <td>955</td>\n",
       "    </tr>\n",
       "    <tr>\n",
       "      <th>6</th>\n",
       "      <td>Hashtags</td>\n",
       "      <td>826</td>\n",
       "    </tr>\n",
       "    <tr>\n",
       "      <th>7</th>\n",
       "      <td>Alphanumeric characters</td>\n",
       "      <td>459</td>\n",
       "    </tr>\n",
       "    <tr>\n",
       "      <th>8</th>\n",
       "      <td>Money ($$)</td>\n",
       "      <td>30</td>\n",
       "    </tr>\n",
       "  </tbody>\n",
       "</table>\n",
       "</div>"
      ],
      "text/plain": [
       "                        Type  Counts\n",
       "0                      Words   48016\n",
       "1                      Other    8036\n",
       "2            Mentions (@___)    1961\n",
       "3  Repeated characters (...)    1229\n",
       "4                    Numbers    1218\n",
       "5                       URLs     955\n",
       "6                   Hashtags     826\n",
       "7    Alphanumeric characters     459\n",
       "8                 Money ($$)      30"
      ]
     },
     "execution_count": 9,
     "metadata": {
      "tags": []
     },
     "output_type": "execute_result"
    }
   ],
   "source": [
    "def get_token_type(t):\n",
    "    if len(t.token) > 1 and t.token[0] in ['\\'', '\\\"', '(', '-']:\n",
    "        return get_token_type(Tag(t.token[1:], t.tag))\n",
    "    if len(t.token) > 1 and t.token[0] == \"@\":\n",
    "        return \"Mentions (@___)\"\n",
    "    if len(t.token) > 1 and t.token[0] == \"#\":\n",
    "        return \"Hashtags\"\n",
    "    if len(t.token) > 1 and t.token[0] == \"$\":\n",
    "        return \"Money ($$)\"\n",
    "    if URL_REGEX.match(t.token):\n",
    "        return \"URLs\"\n",
    "    if NUMBER_REGEX.match(t.token):\n",
    "        return \"Numbers\"\n",
    "    if WORD_REGEX.match(t.token):\n",
    "        return \"Words\"\n",
    "    if t.token.isalnum():\n",
    "        return \"Alphanumeric characters\"\n",
    "    if REPEATED_CHAR_REGEX.match(t.token):\n",
    "        return \"Repeated characters (...)\"\n",
    "    return \"Other\"\n",
    "\n",
    "from collections import Counter, OrderedDict\n",
    "pd.DataFrame(Counter(get_token_type(t) for seq in sequences for t in seq).most_common(), columns=[\"Type\", \"Counts\"])"
   ]
  },
  {
   "cell_type": "markdown",
   "metadata": {
    "colab_type": "text",
    "id": "es7O9dk3HebY"
   },
   "source": [
    "## 2 - Using basic algorithms like Perceptron, SGD classifier, Multinomial Naive Bayes classifier"
   ]
  },
  {
   "cell_type": "markdown",
   "metadata": {
    "colab_type": "text",
    "id": "UYLe1eaaHixi"
   },
   "source": [
    "### Transform the given data into operable form using DictVectorizer. Use a 67-33 split to generate a dev set"
   ]
  },
  {
   "cell_type": "code",
   "execution_count": 10,
   "metadata": {
    "colab": {
     "base_uri": "https://localhost:8080/",
     "height": 35
    },
    "colab_type": "code",
    "id": "7nbLqRntHhBG",
    "outputId": "25da558c-f8af-480c-b89a-d814ed6fa10c"
   },
   "outputs": [
    {
     "name": "stdout",
     "output_type": "stream",
     "text": [
      "(37335, 13794) (37335,)\n"
     ]
    }
   ],
   "source": [
    "from sklearn.feature_extraction import DictVectorizer\n",
    "from sklearn.model_selection import train_test_split\n",
    "import numpy as np\n",
    "X = train_data.drop('Tag', axis=1)\n",
    "v = DictVectorizer(sparse=False)\n",
    "X = v.fit_transform(X.to_dict('records'))\n",
    "y = train_data.Tag.values\n",
    "\n",
    "classes = np.unique(y)\n",
    "classes = classes.tolist()\n",
    "X_train, X_test, y_train, y_test = train_test_split(X, y, test_size = 0.33, random_state=0)\n",
    "print(X_train.shape, y_train.shape)"
   ]
  },
  {
   "cell_type": "markdown",
   "metadata": {
    "colab_type": "text",
    "id": "jS-ifNT7Hqqj"
   },
   "source": [
    "#### Load the libraries for the classifiers"
   ]
  },
  {
   "cell_type": "code",
   "execution_count": 0,
   "metadata": {
    "colab": {},
    "colab_type": "code",
    "id": "_e9Xl_uqHscQ"
   },
   "outputs": [],
   "source": [
    "from sklearn.linear_model import Perceptron\n",
    "from sklearn.linear_model import SGDClassifier\n",
    "from sklearn.naive_bayes import MultinomialNB\n",
    "from sklearn.metrics import classification_report"
   ]
  },
  {
   "cell_type": "markdown",
   "metadata": {
    "colab_type": "text",
    "id": "SglypZNwHwHT"
   },
   "source": [
    "### 2.1 Perceptron"
   ]
  },
  {
   "cell_type": "code",
   "execution_count": 12,
   "metadata": {
    "colab": {
     "base_uri": "https://localhost:8080/",
     "height": 894
    },
    "colab_type": "code",
    "id": "j_HBN87eHykH",
    "outputId": "09686abe-197a-4b90-b8bd-8aca1ea6d69b"
   },
   "outputs": [
    {
     "name": "stderr",
     "output_type": "stream",
     "text": [
      "[Parallel(n_jobs=-1)]: Using backend ThreadingBackend with 4 concurrent workers.\n"
     ]
    },
    {
     "name": "stdout",
     "output_type": "stream",
     "text": [
      "-- Epoch 1-- Epoch 1\n",
      "-- Epoch 1-- Epoch 1\n",
      "\n",
      "\n",
      "Norm: 14.80, NNZs: 170, Bias: -1.000000, T: 37335, Avg. loss: 0.002437\n",
      "Total training time: 1.23 seconds.\n",
      "-- Epoch 1\n",
      "Norm: 10.15, NNZs: 94, Bias: -1.000000, T: 37335, Avg. loss: 0.002330\n",
      "Total training time: 1.38 seconds.\n",
      "Norm: 17.06, NNZs: 259, Bias: -1.000000, T: 37335, Avg. loss: 0.004741-- Epoch 1\n",
      "\n",
      "Total training time: 1.40 seconds.\n",
      "-- Epoch 1\n",
      "Norm: 24.84, NNZs: 518, Bias: -1.000000, T: 37335, Avg. loss: 0.008785\n",
      "Total training time: 1.42 seconds.\n",
      "-- Epoch 1\n",
      "Norm: 27.00, NNZs: 617, Bias: -1.000000, T: 37335, Avg. loss: 0.009214\n",
      "Total training time: 1.29 seconds.\n",
      "-- Epoch 1\n",
      "Norm: 6.71, NNZs: 39, Bias: -1.000000, T: 37335, Avg. loss: 0.000857\n",
      "Norm: 10.77, NNZs: 99, Bias: -2.000000, T: 37335, Avg. loss: 0.003589Total training time: 1.28 seconds.\n",
      "Total training time: 1.27 seconds.\n",
      "\n",
      "-- Epoch 1\n",
      "-- Epoch 1\n"
     ]
    },
    {
     "name": "stderr",
     "output_type": "stream",
     "text": [
      "[Parallel(n_jobs=-1)]: Done   5 tasks      | elapsed:    2.5s\n"
     ]
    },
    {
     "name": "stdout",
     "output_type": "stream",
     "text": [
      "Norm: 13.15, NNZs: 149, Bias: -1.000000, T: 37335, Avg. loss: 0.002303\n",
      "Total training time: 1.44 seconds.\n",
      "-- Epoch 1\n"
     ]
    },
    {
     "name": "stderr",
     "output_type": "stream",
     "text": [
      "[Parallel(n_jobs=-1)]: Done   8 out of  13 | elapsed:    2.8s remaining:    1.8s\n"
     ]
    },
    {
     "name": "stdout",
     "output_type": "stream",
     "text": [
      "Norm: 10.15, NNZs: 97, Bias: -1.000000, T: 37335, Avg. loss: 0.002973\n",
      "Total training time: 1.40 seconds.\n",
      "-- Epoch 1\n",
      "Norm: 18.63, NNZs: 305, Bias: -1.000000, T: 37335, Avg. loss: 0.005277\n",
      "Total training time: 1.28 seconds.\n",
      "Norm: 15.75, NNZs: 221, Bias: -2.000000, T: 37335, Avg. loss: 0.004071\n",
      "Total training time: 1.38 seconds.\n",
      "Norm: 13.30, NNZs: 163, Bias: -1.000000, T: 37335, Avg. loss: 0.003589\n",
      "Total training time: 1.26 seconds.\n"
     ]
    },
    {
     "name": "stderr",
     "output_type": "stream",
     "text": [
      "[Parallel(n_jobs=-1)]: Done  10 out of  13 | elapsed:    4.0s remaining:    1.2s\n"
     ]
    },
    {
     "name": "stdout",
     "output_type": "stream",
     "text": [
      "Norm: 57.73, NNZs: 2645, Bias: 1.000000, T: 37335, Avg. loss: 0.045909\n",
      "Total training time: 0.88 seconds.\n"
     ]
    },
    {
     "name": "stderr",
     "output_type": "stream",
     "text": [
      "[Parallel(n_jobs=-1)]: Done  13 out of  13 | elapsed:    4.8s finished\n"
     ]
    },
    {
     "data": {
      "text/plain": [
       "Perceptron(alpha=0.0001, class_weight=None, early_stopping=False, eta0=1.0,\n",
       "           fit_intercept=True, max_iter=5, n_iter_no_change=5, n_jobs=-1,\n",
       "           penalty=None, random_state=0, shuffle=True, tol=0.001,\n",
       "           validation_fraction=0.1, verbose=10, warm_start=False)"
      ]
     },
     "execution_count": 12,
     "metadata": {
      "tags": []
     },
     "output_type": "execute_result"
    }
   ],
   "source": [
    "per = Perceptron(verbose=10, n_jobs=-1, max_iter=5)\n",
    "per.partial_fit(X_train, y_train, classes)"
   ]
  },
  {
   "cell_type": "markdown",
   "metadata": {
    "colab_type": "text",
    "id": "0nNxcfBmH3O0"
   },
   "source": [
    "#### Evaluating the classification metric without the Tag 'O'"
   ]
  },
  {
   "cell_type": "code",
   "execution_count": 13,
   "metadata": {
    "colab": {
     "base_uri": "https://localhost:8080/",
     "height": 364
    },
    "colab_type": "code",
    "id": "zwNfsKEpH464",
    "outputId": "0caac39c-821f-4579-9c95-cffe8f30c9e6"
   },
   "outputs": [
    {
     "name": "stdout",
     "output_type": "stream",
     "text": [
      "                 precision    recall  f1-score   support\n",
      "\n",
      "  B-corporation       0.69      0.36      0.47        67\n",
      "B-creative-work       0.40      0.10      0.16        41\n",
      "        B-group       0.42      0.15      0.22        68\n",
      "     B-location       0.73      0.28      0.40       165\n",
      "       B-person       0.72      0.28      0.41       186\n",
      "      B-product       0.47      0.18      0.26        38\n",
      "  I-corporation       0.00      0.00      0.00        16\n",
      "I-creative-work       0.00      0.00      0.00        53\n",
      "        I-group       0.25      0.12      0.16        51\n",
      "     I-location       0.60      0.04      0.07        83\n",
      "       I-person       0.67      0.17      0.27        93\n",
      "      I-product       0.59      0.20      0.29        51\n",
      "\n",
      "      micro avg       0.61      0.20      0.30       912\n",
      "      macro avg       0.46      0.16      0.23       912\n",
      "   weighted avg       0.57      0.20      0.28       912\n",
      "\n"
     ]
    }
   ],
   "source": [
    "new_classes = classes.copy()\n",
    "new_classes.pop()\n",
    "print(classification_report(y_pred=per.predict(X_test), y_true=y_test, labels=new_classes))"
   ]
  },
  {
   "cell_type": "markdown",
   "metadata": {
    "colab_type": "text",
    "id": "4YoQBEuWIQfR"
   },
   "source": [
    "### 2.2 SGD Classifier"
   ]
  },
  {
   "cell_type": "code",
   "execution_count": 14,
   "metadata": {
    "colab": {
     "base_uri": "https://localhost:8080/",
     "height": 421
    },
    "colab_type": "code",
    "id": "xspjV5_UIQJD",
    "outputId": "881faa8a-0d2e-4ac7-a5bd-110fdaec8a23"
   },
   "outputs": [
    {
     "name": "stderr",
     "output_type": "stream",
     "text": [
      "/usr/local/lib/python3.6/dist-packages/sklearn/metrics/classification.py:1437: UndefinedMetricWarning: Precision and F-score are ill-defined and being set to 0.0 in labels with no predicted samples.\n",
      "  'precision', 'predicted', average, warn_for)\n"
     ]
    },
    {
     "name": "stdout",
     "output_type": "stream",
     "text": [
      "                 precision    recall  f1-score   support\n",
      "\n",
      "  B-corporation       1.00      0.27      0.42        67\n",
      "B-creative-work       0.00      0.00      0.00        41\n",
      "        B-group       0.00      0.00      0.00        68\n",
      "     B-location       0.86      0.04      0.07       165\n",
      "       B-person       0.83      0.10      0.18       186\n",
      "      B-product       1.00      0.05      0.10        38\n",
      "  I-corporation       0.00      0.00      0.00        16\n",
      "I-creative-work       0.00      0.00      0.00        53\n",
      "        I-group       0.00      0.00      0.00        51\n",
      "     I-location       0.00      0.00      0.00        83\n",
      "       I-person       0.83      0.05      0.10        93\n",
      "      I-product       0.00      0.00      0.00        51\n",
      "\n",
      "      micro avg       0.89      0.05      0.10       912\n",
      "      macro avg       0.38      0.04      0.07       912\n",
      "   weighted avg       0.52      0.05      0.10       912\n",
      "\n"
     ]
    }
   ],
   "source": [
    "sgd = SGDClassifier()\n",
    "sgd.partial_fit(X_train, y_train, classes)\n",
    "print(classification_report(y_pred=sgd.predict(X_test), y_true=y_test, labels=new_classes))"
   ]
  },
  {
   "cell_type": "markdown",
   "metadata": {
    "colab_type": "text",
    "id": "aIGqLmQ9IXgB"
   },
   "source": [
    "### 2.3 Multinomial Naive Bayes Classifier"
   ]
  },
  {
   "cell_type": "code",
   "execution_count": 15,
   "metadata": {
    "colab": {
     "base_uri": "https://localhost:8080/",
     "height": 364
    },
    "colab_type": "code",
    "id": "vdEPspWIIZk_",
    "outputId": "1143ddd8-d7bd-42a0-a1c5-185b56d6d061"
   },
   "outputs": [
    {
     "name": "stdout",
     "output_type": "stream",
     "text": [
      "                 precision    recall  f1-score   support\n",
      "\n",
      "  B-corporation       0.90      0.39      0.54        67\n",
      "B-creative-work       0.33      0.02      0.05        41\n",
      "        B-group       0.50      0.15      0.23        68\n",
      "     B-location       0.77      0.26      0.39       165\n",
      "       B-person       0.68      0.25      0.37       186\n",
      "      B-product       0.70      0.18      0.29        38\n",
      "  I-corporation       0.00      0.00      0.00        16\n",
      "I-creative-work       0.00      0.00      0.00        53\n",
      "        I-group       0.38      0.06      0.10        51\n",
      "     I-location       0.42      0.12      0.19        83\n",
      "       I-person       0.67      0.19      0.30        93\n",
      "      I-product       0.60      0.18      0.27        51\n",
      "\n",
      "      micro avg       0.66      0.19      0.30       912\n",
      "      macro avg       0.49      0.15      0.23       912\n",
      "   weighted avg       0.59      0.19      0.29       912\n",
      "\n"
     ]
    }
   ],
   "source": [
    "nb = MultinomialNB(alpha=0.01)\n",
    "nb.partial_fit(X_train, y_train, classes)\n",
    "print(classification_report(y_pred=nb.predict(X_test), y_true=y_test, labels = new_classes))"
   ]
  },
  {
   "cell_type": "markdown",
   "metadata": {
    "colab_type": "text",
    "id": "K1jFKO-nIeFn"
   },
   "source": [
    "While the precision values are somewhat is the acceptable range, the recall values are very poor and so is their harmonic mean - F1-score. None of the above classifiers produced satisfying results. It is obvious that it is not going to be easy to classify named entities using regular classifiers."
   ]
  },
  {
   "cell_type": "markdown",
   "metadata": {
    "colab_type": "text",
    "id": "1Lv_NzyVIjF-"
   },
   "source": [
    "## 3 - Using Conditional Random Fields\n",
    "#### Conditional random fields (CRFs) are a class of statistical modeling method often applied in pattern recognition and machine learning and used for structured prediction. CRFs is often used for labeling or parsing of sequential data, such as natural language processing and CRFs find applications in POS Tagging, named entity recognition, among others."
   ]
  },
  {
   "cell_type": "markdown",
   "metadata": {
    "colab_type": "text",
    "id": "VILUPFn4ImaI"
   },
   "source": [
    "#### Load the data as a list "
   ]
  },
  {
   "cell_type": "code",
   "execution_count": 0,
   "metadata": {
    "colab": {},
    "colab_type": "code",
    "id": "REkIoN3aIdnc"
   },
   "outputs": [],
   "source": [
    "train_data_list = train_data.values.tolist()"
   ]
  },
  {
   "cell_type": "markdown",
   "metadata": {
    "colab_type": "text",
    "id": "ZKV928TqIsh6"
   },
   "source": [
    "### Perform POS tagging for every token in the dataset"
   ]
  },
  {
   "cell_type": "code",
   "execution_count": 17,
   "metadata": {
    "colab": {
     "base_uri": "https://localhost:8080/",
     "height": 108
    },
    "colab_type": "code",
    "id": "KOGC5pErIqdC",
    "outputId": "9d8110c1-3994-4d85-d40e-344710e8bba1"
   },
   "outputs": [
    {
     "name": "stdout",
     "output_type": "stream",
     "text": [
      "[nltk_data] Downloading package averaged_perceptron_tagger to\n",
      "[nltk_data]     /root/nltk_data...\n",
      "[nltk_data]   Package averaged_perceptron_tagger is already up-to-\n",
      "[nltk_data]       date!\n"
     ]
    },
    {
     "data": {
      "text/plain": [
       "True"
      ]
     },
     "execution_count": 17,
     "metadata": {
      "tags": []
     },
     "output_type": "execute_result"
    }
   ],
   "source": [
    "import nltk\n",
    "import numpy as np\n",
    "nltk.download('averaged_perceptron_tagger')"
   ]
  },
  {
   "cell_type": "code",
   "execution_count": 0,
   "metadata": {
    "colab": {},
    "colab_type": "code",
    "id": "9Jxz4YRCIyli"
   },
   "outputs": [],
   "source": [
    "data = []\n",
    "for i, doc in enumerate(train_data_list):\n",
    "    docs = [(doc[0],doc[1])]\n",
    "    tokens = [doc[0]]\n",
    "    tagged = nltk.pos_tag(tokens)\n",
    "    data.append([(w, pos, label) for (w, label), (word, pos) in zip(docs, tagged)])"
   ]
  },
  {
   "cell_type": "markdown",
   "metadata": {
    "colab_type": "text",
    "id": "fWHqcBjvI2XU"
   },
   "source": [
    "#### How this data variable looks after POS tagging"
   ]
  },
  {
   "cell_type": "code",
   "execution_count": 19,
   "metadata": {
    "colab": {
     "base_uri": "https://localhost:8080/",
     "height": 200
    },
    "colab_type": "code",
    "id": "m79m3kLZI4cy",
    "outputId": "865ac80f-85c3-4299-c64a-1c660480fa38"
   },
   "outputs": [
    {
     "data": {
      "text/plain": [
       "[[('@paulwalk', 'NN', 'O')],\n",
       " [('It', 'PRP', 'O')],\n",
       " [(\"'s\", 'POS', 'O')],\n",
       " [('the', 'DT', 'O')],\n",
       " [('view', 'NN', 'O')],\n",
       " [('from', 'IN', 'O')],\n",
       " [('where', 'WRB', 'O')],\n",
       " [('I', 'PRP', 'O')],\n",
       " [(\"'m\", 'VBP', 'O')],\n",
       " [('living', 'NN', 'O')]]"
      ]
     },
     "execution_count": 19,
     "metadata": {
      "tags": []
     },
     "output_type": "execute_result"
    }
   ],
   "source": [
    "data[:10]"
   ]
  },
  {
   "cell_type": "markdown",
   "metadata": {
    "colab_type": "text",
    "id": "la93FXPQI-Gx"
   },
   "source": [
    "### Begin training on the CRFsuite"
   ]
  },
  {
   "cell_type": "code",
   "execution_count": 20,
   "metadata": {
    "colab": {
     "base_uri": "https://localhost:8080/",
     "height": 108
    },
    "colab_type": "code",
    "id": "ILzTGYZNElF4",
    "outputId": "b2a3cd78-2bc0-4492-a727-d960a0ccd3b6"
   },
   "outputs": [
    {
     "name": "stdout",
     "output_type": "stream",
     "text": [
      "Requirement already satisfied: sklearn_crfsuite in /usr/local/lib/python3.6/dist-packages (0.3.6)\n",
      "Requirement already satisfied: python-crfsuite>=0.8.3 in /usr/local/lib/python3.6/dist-packages (from sklearn_crfsuite) (0.9.6)\n",
      "Requirement already satisfied: six in /usr/local/lib/python3.6/dist-packages (from sklearn_crfsuite) (1.12.0)\n",
      "Requirement already satisfied: tabulate in /usr/local/lib/python3.6/dist-packages (from sklearn_crfsuite) (0.8.6)\n",
      "Requirement already satisfied: tqdm>=2.0 in /usr/local/lib/python3.6/dist-packages (from sklearn_crfsuite) (4.28.1)\n"
     ]
    }
   ],
   "source": [
    "!pip install sklearn_crfsuite"
   ]
  },
  {
   "cell_type": "code",
   "execution_count": 0,
   "metadata": {
    "colab": {},
    "colab_type": "code",
    "id": "h_6Hrb1fI_jw"
   },
   "outputs": [],
   "source": [
    "from sklearn.model_selection import train_test_split\n",
    "import sklearn_crfsuite\n",
    "from sklearn_crfsuite import metrics"
   ]
  },
  {
   "cell_type": "markdown",
   "metadata": {
    "colab_type": "text",
    "id": "HXn5sTkBJKdl"
   },
   "source": [
    "#### I will extract more features in the crfsuite format (word parts, simplified POS tags, lower/title/upper flags, features of nearby words)"
   ]
  },
  {
   "cell_type": "code",
   "execution_count": 0,
   "metadata": {
    "colab": {},
    "colab_type": "code",
    "id": "rfHkprypJM6p"
   },
   "outputs": [],
   "source": [
    "def word2features(doc, i):\n",
    "    word = doc[i][0]\n",
    "    postag = doc[i][1]\n",
    "    features = [\n",
    "        'bias',\n",
    "        'word.lower=' + word.lower(),\n",
    "        'word[-3:]=' + word[-3:],\n",
    "        'word[-2:]=' + word[-2:],\n",
    "        'word.isupper=%s' % word.isupper(),\n",
    "        'word.istitle=%s' % word.istitle(),\n",
    "        'word.isdigit=%s' % word.isdigit(),\n",
    "        'postag=' + postag\n",
    "    ]\n",
    "\n",
    "    # Features for words that are not\n",
    "    # at the beginning of a document\n",
    "    if i > 0:\n",
    "        word1 = doc[i-1][0]\n",
    "        postag1 = doc[i-1][1]\n",
    "        features.extend([\n",
    "            '-1:word.lower=' + word1.lower(),\n",
    "            '-1:word.istitle=%s' % word1.istitle(),\n",
    "            '-1:word.isupper=%s' % word1.isupper(),\n",
    "            '-1:word.isdigit=%s' % word1.isdigit(),\n",
    "            '-1:postag=' + postag1\n",
    "        ])\n",
    "    else:\n",
    "        features.append('BOS')  #Beginning of a sentence\n",
    "    # If we have features at the beginning of a sentence\n",
    "    if i < len(doc)-1:\n",
    "        word1 = doc[i+1][0]\n",
    "        postag1 = doc[i+1][1]\n",
    "        features.extend([\n",
    "            '+1:word.lower=' + word1.lower(),\n",
    "            '+1:word.istitle=%s' % word1.istitle(),\n",
    "            '+1:word.isupper=%s' % word1.isupper(),\n",
    "            '+1:word.isdigit=%s' % word1.isdigit(),\n",
    "            '+1:postag=' + postag1\n",
    "        ])\n",
    "    else:\n",
    "        features.append('EOS') #End of a sentence\n",
    "\n",
    "    return features\n",
    "\n",
    "def extract_features(doc):\n",
    "    return [word2features(doc, i) for i in range(len(doc))]\n",
    "\n",
    "def get_labels(doc):\n",
    "    return [label for (token, postag, label) in doc]\n",
    "\n",
    "def get_tokens(doc):\n",
    "    return [token for token, postag, label in doc]"
   ]
  },
  {
   "cell_type": "code",
   "execution_count": 0,
   "metadata": {
    "colab": {},
    "colab_type": "code",
    "id": "6A-XVte9JP2r"
   },
   "outputs": [],
   "source": [
    "X = [extract_features(doc) for doc in data]\n",
    "y = [get_labels(doc) for doc in data]\n",
    "X_train, X_test, y_train, y_test = train_test_split(X, y, test_size=0.2)"
   ]
  },
  {
   "cell_type": "code",
   "execution_count": 0,
   "metadata": {
    "colab": {},
    "colab_type": "code",
    "id": "lVmhoJ3nJRlM"
   },
   "outputs": [],
   "source": [
    "crf = sklearn_crfsuite.CRF(algorithm='lbfgs',c1=0.1,c2=0.1,max_iterations=100,all_possible_transitions=False)"
   ]
  },
  {
   "cell_type": "code",
   "execution_count": 25,
   "metadata": {
    "colab": {
     "base_uri": "https://localhost:8080/",
     "height": 364
    },
    "colab_type": "code",
    "id": "HTWJAZUVJVDt",
    "outputId": "16e55a31-d0ce-4d08-969d-604b2061f374"
   },
   "outputs": [
    {
     "name": "stdout",
     "output_type": "stream",
     "text": [
      "                 precision    recall  f1-score   support\n",
      "\n",
      "  B-corporation       1.00      0.39      0.57        38\n",
      "B-creative-work       0.00      0.00      0.00        21\n",
      "        B-group       0.46      0.10      0.16        61\n",
      "     B-location       0.57      0.25      0.34       106\n",
      "       B-person       0.57      0.32      0.41       113\n",
      "      B-product       0.80      0.28      0.41        29\n",
      "  I-corporation       1.00      0.20      0.33         5\n",
      "I-creative-work       0.33      0.04      0.08        45\n",
      "        I-group       0.20      0.05      0.08        19\n",
      "     I-location       0.56      0.16      0.25        57\n",
      "       I-person       0.52      0.22      0.31        64\n",
      "      I-product       0.38      0.09      0.15        32\n",
      "\n",
      "      micro avg       0.57      0.21      0.30       590\n",
      "      macro avg       0.53      0.18      0.26       590\n",
      "   weighted avg       0.53      0.21      0.29       590\n",
      "\n"
     ]
    }
   ],
   "source": [
    "crf.fit(X_train, y_train)\n",
    "y_pred = crf.predict(X_test)\n",
    "print(metrics.flat_classification_report(y_test, y_pred, labels = new_classes))"
   ]
  },
  {
   "cell_type": "markdown",
   "metadata": {
    "colab_type": "text",
    "id": "nC56xMvYJbBR"
   },
   "source": [
    "### It is evident that the F1 scores for Conditional Random Field approach is better than regular classifiers, but not good enough\n"
   ]
  },
  {
   "cell_type": "markdown",
   "metadata": {
    "colab_type": "text",
    "id": "xSE3gG9zJfS2"
   },
   "source": [
    "## 4 - Using Deep Learning Methods\n",
    "###4.1 I will now look to improve the earlier results using LSTM based methods. The method shown below encodes character level information. The advantage of this method over an LSTM with CRF model is that I can use basically everything that produces a single vector for a sequence of characters that represent a word. In case of the latter, though it may produce failry good results, If we haven’t seen a word a prediction time, we have to encode it as unknown and have to infer it’s meaning by it’s surrounding words.\n",
    "\n",
    "\n",
    "#### Data Preparation"
   ]
  },
  {
   "cell_type": "code",
   "execution_count": 26,
   "metadata": {
    "colab": {
     "base_uri": "https://localhost:8080/",
     "height": 35
    },
    "colab_type": "code",
    "id": "VxDhlkmMM2q5",
    "outputId": "8065891d-319a-4d27-bfbf-0f8a14ce5213"
   },
   "outputs": [
    {
     "data": {
      "text/plain": [
       "13794"
      ]
     },
     "execution_count": 26,
     "metadata": {
      "tags": []
     },
     "output_type": "execute_result"
    }
   ],
   "source": [
    "words = list(set(train_data[\"Name\"].values))\n",
    "n_words = len(words); n_words # Number of unique words in the dataset"
   ]
  },
  {
   "cell_type": "code",
   "execution_count": 27,
   "metadata": {
    "colab": {
     "base_uri": "https://localhost:8080/",
     "height": 35
    },
    "colab_type": "code",
    "id": "DG0Br8TSNKcS",
    "outputId": "63cf2b8e-4357-4db6-ceca-7616a1d2093f"
   },
   "outputs": [
    {
     "data": {
      "text/plain": [
       "13"
      ]
     },
     "execution_count": 27,
     "metadata": {
      "tags": []
     },
     "output_type": "execute_result"
    }
   ],
   "source": [
    "tags = list(set(train_data[\"Tag\"].values)) \n",
    "n_tags = len(tags); n_tags # Number of unique tags in the dataset"
   ]
  },
  {
   "cell_type": "code",
   "execution_count": 0,
   "metadata": {
    "colab": {},
    "colab_type": "code",
    "id": "Q7frX87GN5V6"
   },
   "outputs": [],
   "source": [
    "max_len = 75\n",
    "max_len_char = 10"
   ]
  },
  {
   "cell_type": "code",
   "execution_count": 0,
   "metadata": {
    "colab": {},
    "colab_type": "code",
    "id": "0NzB1eqVPEZu"
   },
   "outputs": [],
   "source": [
    "word2idx = {w: i + 2 for i, w in enumerate(words)}\n",
    "word2idx[\"UNK\"] = 1\n",
    "word2idx[\"PAD\"] = 0\n",
    "idx2word = {i: w for w, i in word2idx.items()}\n",
    "tag2idx = {t: i + 1 for i, t in enumerate(tags)}\n",
    "tag2idx[\"PAD\"] = 0\n",
    "idx2tag = {i: w for w, i in tag2idx.items()}"
   ]
  },
  {
   "cell_type": "markdown",
   "metadata": {
    "colab_type": "text",
    "id": "zj_PhubSnf_-"
   },
   "source": [
    "#### Now I am mapping the sentences to a number sequence and then padding the string. Remember that to use null as a padding cost, I increased the term index by one. This is done because I want to use the embedding layer mask zero parameter to disregard zero-value outputs. "
   ]
  },
  {
   "cell_type": "code",
   "execution_count": 30,
   "metadata": {
    "colab": {
     "base_uri": "https://localhost:8080/",
     "height": 83
    },
    "colab_type": "code",
    "id": "Uv5MpjwwPE1B",
    "outputId": "fc4d27d4-4455-428a-8bff-f9267fafc993"
   },
   "outputs": [
    {
     "name": "stderr",
     "output_type": "stream",
     "text": [
      "Using TensorFlow backend.\n"
     ]
    },
    {
     "data": {
      "text/html": [
       "<p style=\"color: red;\">\n",
       "The default version of TensorFlow in Colab will soon switch to TensorFlow 2.x.<br>\n",
       "We recommend you <a href=\"https://www.tensorflow.org/guide/migrate\" target=\"_blank\">upgrade</a> now \n",
       "or ensure your notebook will continue to use TensorFlow 1.x via the <code>%tensorflow_version 1.x</code> magic:\n",
       "<a href=\"https://colab.research.google.com/notebooks/tensorflow_version.ipynb\" target=\"_blank\">more info</a>.</p>\n"
      ],
      "text/plain": [
       "<IPython.core.display.HTML object>"
      ]
     },
     "metadata": {
      "tags": []
     },
     "output_type": "display_data"
    }
   ],
   "source": [
    "from keras.preprocessing.sequence import pad_sequences\n",
    "X_word = [[word2idx[w[0]] for w in s] for s in data]"
   ]
  },
  {
   "cell_type": "code",
   "execution_count": 0,
   "metadata": {
    "colab": {},
    "colab_type": "code",
    "id": "VwbTc6X6PLOq"
   },
   "outputs": [],
   "source": [
    "X_word = pad_sequences(maxlen=max_len, sequences=X_word, value=word2idx[\"PAD\"], padding='post', truncating='post')"
   ]
  },
  {
   "cell_type": "markdown",
   "metadata": {
    "colab_type": "text",
    "id": "clcZi57MoOTZ"
   },
   "source": [
    "Now I will build a dictionary for the characters I have and then construct the character sequence for each token. Max_len for characters has been arbitrarily set as 10."
   ]
  },
  {
   "cell_type": "code",
   "execution_count": 32,
   "metadata": {
    "colab": {
     "base_uri": "https://localhost:8080/",
     "height": 35
    },
    "colab_type": "code",
    "id": "-bABQw5iPQ5p",
    "outputId": "3eebf2aa-134d-4b59-8997-b92d414bf669"
   },
   "outputs": [
    {
     "name": "stdout",
     "output_type": "stream",
     "text": [
      "94\n"
     ]
    }
   ],
   "source": [
    "chars = set([w_i for w in words for w_i in w])\n",
    "n_chars = len(chars)\n",
    "print(n_chars)"
   ]
  },
  {
   "cell_type": "code",
   "execution_count": 0,
   "metadata": {
    "colab": {},
    "colab_type": "code",
    "id": "tQl2ozrCPTJA"
   },
   "outputs": [],
   "source": [
    "char2idx = {c: i + 2 for i, c in enumerate(chars)}\n",
    "char2idx[\"UNK\"] = 1\n",
    "char2idx[\"PAD\"] = 0"
   ]
  },
  {
   "cell_type": "code",
   "execution_count": 0,
   "metadata": {
    "colab": {},
    "colab_type": "code",
    "id": "Z9_-o6LSPWD7"
   },
   "outputs": [],
   "source": [
    "X_char = []\n",
    "for sentence in data:\n",
    "    sent_seq = []\n",
    "    for i in range(max_len):\n",
    "        word_seq = []\n",
    "        for j in range(max_len_char):\n",
    "            try:\n",
    "                word_seq.append(char2idx.get(sentence[i][0][j]))\n",
    "            except:\n",
    "                word_seq.append(char2idx.get(\"PAD\"))\n",
    "        sent_seq.append(word_seq)\n",
    "    X_char.append(np.array(sent_seq))"
   ]
  },
  {
   "cell_type": "markdown",
   "metadata": {
    "colab_type": "text",
    "id": "ItRpI6lpokIA"
   },
   "source": [
    "For our tag series, we must do the same mapping and padding. "
   ]
  },
  {
   "cell_type": "code",
   "execution_count": 0,
   "metadata": {
    "colab": {},
    "colab_type": "code",
    "id": "LK9CFPmgPZU5"
   },
   "outputs": [],
   "source": [
    "y = [[tag2idx[w[2]] for w in s] for s in data]\n",
    "y = pad_sequences(maxlen=max_len, sequences=y, value=tag2idx[\"PAD\"], padding='post', truncating='post')"
   ]
  },
  {
   "cell_type": "code",
   "execution_count": 0,
   "metadata": {
    "colab": {},
    "colab_type": "code",
    "id": "9MIuFCqRPeEh"
   },
   "outputs": [],
   "source": [
    "X_word_tr, X_word_te, y_tr, y_te = train_test_split(X_word, y, test_size=0.1, random_state=2018)\n",
    "X_char_tr, X_char_te, _, _ = train_test_split(X_char, y, test_size=0.1, random_state=2018)"
   ]
  },
  {
   "cell_type": "code",
   "execution_count": 0,
   "metadata": {
    "colab": {},
    "colab_type": "code",
    "id": "g33U3u7gPhKy"
   },
   "outputs": [],
   "source": [
    "from keras.models import Model, Input\n",
    "from keras.layers import LSTM, Embedding, Dense, TimeDistributed, Dropout, Conv1D\n",
    "from keras.layers import Bidirectional, concatenate, SpatialDropout1D, GlobalMaxPooling1D"
   ]
  },
  {
   "cell_type": "markdown",
   "metadata": {
    "colab_type": "text",
    "id": "thuONDAmo8U3"
   },
   "source": [
    "The approach is to wrap the components in a TimeDistributed layer that should be added to the characters to apply the same layers to each sequence of characters. Instead of a sigmoid activation, I am using a softmax activation because categorical_crossentropy loss forces the model to distribute probability similar to a softmax. Just because, the labels are categorical, I prefer to use softmax over sigmoid."
   ]
  },
  {
   "cell_type": "code",
   "execution_count": 38,
   "metadata": {
    "colab": {
     "base_uri": "https://localhost:8080/",
     "height": 384
    },
    "colab_type": "code",
    "id": "Bs0aAnGPPjiD",
    "outputId": "6438a027-f034-4800-a949-e7dcb57aedf7"
   },
   "outputs": [
    {
     "name": "stdout",
     "output_type": "stream",
     "text": [
      "WARNING:tensorflow:From /usr/local/lib/python3.6/dist-packages/keras/backend/tensorflow_backend.py:66: The name tf.get_default_graph is deprecated. Please use tf.compat.v1.get_default_graph instead.\n",
      "\n",
      "WARNING:tensorflow:From /usr/local/lib/python3.6/dist-packages/keras/backend/tensorflow_backend.py:541: The name tf.placeholder is deprecated. Please use tf.compat.v1.placeholder instead.\n",
      "\n",
      "WARNING:tensorflow:From /usr/local/lib/python3.6/dist-packages/keras/backend/tensorflow_backend.py:4432: The name tf.random_uniform is deprecated. Please use tf.random.uniform instead.\n",
      "\n",
      "WARNING:tensorflow:From /usr/local/lib/python3.6/dist-packages/keras/backend/tensorflow_backend.py:148: The name tf.placeholder_with_default is deprecated. Please use tf.compat.v1.placeholder_with_default instead.\n",
      "\n",
      "WARNING:tensorflow:From /usr/local/lib/python3.6/dist-packages/keras/backend/tensorflow_backend.py:3733: calling dropout (from tensorflow.python.ops.nn_ops) with keep_prob is deprecated and will be removed in a future version.\n",
      "Instructions for updating:\n",
      "Please use `rate` instead of `keep_prob`. Rate should be set to `rate = 1 - keep_prob`.\n",
      "WARNING:tensorflow:From /usr/local/lib/python3.6/dist-packages/keras/backend/tensorflow_backend.py:3239: where (from tensorflow.python.ops.array_ops) is deprecated and will be removed in a future version.\n",
      "Instructions for updating:\n",
      "Use tf.where in 2.0, which has the same broadcast rule as np.where\n",
      "WARNING:tensorflow:Large dropout rate: 0.6 (>0.5). In TensorFlow 2.x, dropout() uses dropout rate instead of keep_prob. Please ensure that this is intended.\n",
      "WARNING:tensorflow:Large dropout rate: 0.6 (>0.5). In TensorFlow 2.x, dropout() uses dropout rate instead of keep_prob. Please ensure that this is intended.\n",
      "WARNING:tensorflow:Large dropout rate: 0.6 (>0.5). In TensorFlow 2.x, dropout() uses dropout rate instead of keep_prob. Please ensure that this is intended.\n",
      "WARNING:tensorflow:Large dropout rate: 0.6 (>0.5). In TensorFlow 2.x, dropout() uses dropout rate instead of keep_prob. Please ensure that this is intended.\n",
      "WARNING:tensorflow:Large dropout rate: 0.6 (>0.5). In TensorFlow 2.x, dropout() uses dropout rate instead of keep_prob. Please ensure that this is intended.\n"
     ]
    }
   ],
   "source": [
    "# input and embedding for words\n",
    "word_in = Input(shape=(max_len,))\n",
    "emb_word = Embedding(input_dim=n_words + 2, output_dim=20,\n",
    "                     input_length=max_len, mask_zero=True)(word_in)\n",
    "\n",
    "# input and embeddings for characters\n",
    "char_in = Input(shape=(max_len, max_len_char,))\n",
    "emb_char = TimeDistributed(Embedding(input_dim=n_chars + 2, output_dim=10,\n",
    "                           input_length=max_len_char, mask_zero=True))(char_in)\n",
    "# character LSTM to get word encodings by characters\n",
    "char_enc = TimeDistributed(LSTM(units=20, return_sequences=False,\n",
    "                                recurrent_dropout=0.5))(emb_char)\n",
    "\n",
    "# main LSTM\n",
    "x = concatenate([emb_word, char_enc])\n",
    "x = SpatialDropout1D(0.3)(x)\n",
    "main_lstm = Bidirectional(LSTM(units=50, return_sequences=True,\n",
    "                               recurrent_dropout=0.6))(x)\n",
    "out = TimeDistributed(Dense(n_tags + 1, activation=\"softmax\"))(main_lstm)\n",
    "\n",
    "model = Model([word_in, char_in], out)\n"
   ]
  },
  {
   "cell_type": "code",
   "execution_count": 39,
   "metadata": {
    "colab": {
     "base_uri": "https://localhost:8080/",
     "height": 603
    },
    "colab_type": "code",
    "id": "fgooe4PYPlwi",
    "outputId": "d54fa07f-969e-44c6-f4d9-051bada6fc6b"
   },
   "outputs": [
    {
     "name": "stdout",
     "output_type": "stream",
     "text": [
      "WARNING:tensorflow:From /usr/local/lib/python3.6/dist-packages/keras/optimizers.py:793: The name tf.train.Optimizer is deprecated. Please use tf.compat.v1.train.Optimizer instead.\n",
      "\n",
      "WARNING:tensorflow:From /usr/local/lib/python3.6/dist-packages/keras/backend/tensorflow_backend.py:3622: The name tf.log is deprecated. Please use tf.math.log instead.\n",
      "\n",
      "Model: \"model_1\"\n",
      "__________________________________________________________________________________________________\n",
      "Layer (type)                    Output Shape         Param #     Connected to                     \n",
      "==================================================================================================\n",
      "input_2 (InputLayer)            (None, 75, 10)       0                                            \n",
      "__________________________________________________________________________________________________\n",
      "input_1 (InputLayer)            (None, 75)           0                                            \n",
      "__________________________________________________________________________________________________\n",
      "time_distributed_1 (TimeDistrib (None, 75, 10, 10)   960         input_2[0][0]                    \n",
      "__________________________________________________________________________________________________\n",
      "embedding_1 (Embedding)         (None, 75, 20)       275920      input_1[0][0]                    \n",
      "__________________________________________________________________________________________________\n",
      "time_distributed_2 (TimeDistrib (None, 75, 20)       2480        time_distributed_1[0][0]         \n",
      "__________________________________________________________________________________________________\n",
      "concatenate_1 (Concatenate)     (None, 75, 40)       0           embedding_1[0][0]                \n",
      "                                                                 time_distributed_2[0][0]         \n",
      "__________________________________________________________________________________________________\n",
      "spatial_dropout1d_1 (SpatialDro (None, 75, 40)       0           concatenate_1[0][0]              \n",
      "__________________________________________________________________________________________________\n",
      "bidirectional_1 (Bidirectional) (None, 75, 100)      36400       spatial_dropout1d_1[0][0]        \n",
      "__________________________________________________________________________________________________\n",
      "time_distributed_3 (TimeDistrib (None, 75, 14)       1414        bidirectional_1[0][0]            \n",
      "==================================================================================================\n",
      "Total params: 317,174\n",
      "Trainable params: 317,174\n",
      "Non-trainable params: 0\n",
      "__________________________________________________________________________________________________\n"
     ]
    }
   ],
   "source": [
    "model.compile(optimizer=\"adam\", loss=\"sparse_categorical_crossentropy\", metrics=[\"acc\"])\n",
    "model.summary()"
   ]
  },
  {
   "cell_type": "code",
   "execution_count": 40,
   "metadata": {
    "colab": {
     "base_uri": "https://localhost:8080/",
     "height": 530
    },
    "colab_type": "code",
    "id": "zBgT8IPIPq9m",
    "outputId": "1c1eaee2-13c7-40a7-bd73-6a9a3a61c253"
   },
   "outputs": [
    {
     "name": "stdout",
     "output_type": "stream",
     "text": [
      "WARNING:tensorflow:From /usr/local/lib/python3.6/dist-packages/keras/backend/tensorflow_backend.py:1033: The name tf.assign_add is deprecated. Please use tf.compat.v1.assign_add instead.\n",
      "\n",
      "WARNING:tensorflow:From /usr/local/lib/python3.6/dist-packages/keras/backend/tensorflow_backend.py:1020: The name tf.assign is deprecated. Please use tf.compat.v1.assign instead.\n",
      "\n",
      "WARNING:tensorflow:From /usr/local/lib/python3.6/dist-packages/keras/backend/tensorflow_backend.py:3005: The name tf.Session is deprecated. Please use tf.compat.v1.Session instead.\n",
      "\n",
      "Train on 45136 samples, validate on 5016 samples\n",
      "Epoch 1/5\n",
      "WARNING:tensorflow:From /usr/local/lib/python3.6/dist-packages/keras/backend/tensorflow_backend.py:190: The name tf.get_default_session is deprecated. Please use tf.compat.v1.get_default_session instead.\n",
      "\n",
      "WARNING:tensorflow:From /usr/local/lib/python3.6/dist-packages/keras/backend/tensorflow_backend.py:197: The name tf.ConfigProto is deprecated. Please use tf.compat.v1.ConfigProto instead.\n",
      "\n",
      "WARNING:tensorflow:From /usr/local/lib/python3.6/dist-packages/keras/backend/tensorflow_backend.py:207: The name tf.global_variables is deprecated. Please use tf.compat.v1.global_variables instead.\n",
      "\n",
      "WARNING:tensorflow:From /usr/local/lib/python3.6/dist-packages/keras/backend/tensorflow_backend.py:216: The name tf.is_variable_initialized is deprecated. Please use tf.compat.v1.is_variable_initialized instead.\n",
      "\n",
      "WARNING:tensorflow:From /usr/local/lib/python3.6/dist-packages/keras/backend/tensorflow_backend.py:223: The name tf.variables_initializer is deprecated. Please use tf.compat.v1.variables_initializer instead.\n",
      "\n",
      "45136/45136 [==============================] - 70s 2ms/step - loss: 0.9892 - acc: 0.9397 - val_loss: 0.3051 - val_acc: 0.9502\n",
      "Epoch 2/5\n",
      "45136/45136 [==============================] - 67s 1ms/step - loss: 0.2664 - acc: 0.9505 - val_loss: 0.2594 - val_acc: 0.9502\n",
      "Epoch 3/5\n",
      "45136/45136 [==============================] - 67s 1ms/step - loss: 0.2178 - acc: 0.9505 - val_loss: 0.2448 - val_acc: 0.9502\n",
      "Epoch 4/5\n",
      "45136/45136 [==============================] - 67s 1ms/step - loss: 0.1768 - acc: 0.9521 - val_loss: 0.2491 - val_acc: 0.9504\n",
      "Epoch 5/5\n",
      "45136/45136 [==============================] - 67s 1ms/step - loss: 0.1552 - acc: 0.9575 - val_loss: 0.2600 - val_acc: 0.9504\n"
     ]
    }
   ],
   "source": [
    "history = model.fit([X_word_tr,\n",
    "                     np.array(X_char_tr).reshape((len(X_char_tr), max_len, max_len_char))],\n",
    "                    np.array(y_tr).reshape(len(y_tr), max_len, 1),\n",
    "                    batch_size=256, epochs=5, validation_split=0.1, verbose=1)"
   ]
  },
  {
   "cell_type": "code",
   "execution_count": 0,
   "metadata": {
    "colab": {},
    "colab_type": "code",
    "id": "QhbD6HEdPt1F"
   },
   "outputs": [],
   "source": [
    "y_pred = model.predict([X_word_te,np.array(X_char_te).reshape((len(X_char_te),max_len, max_len_char))])"
   ]
  },
  {
   "cell_type": "markdown",
   "metadata": {
    "colab_type": "text",
    "id": "E0sabf_Gp1BT"
   },
   "source": [
    "Accuracy of this model is:"
   ]
  },
  {
   "cell_type": "code",
   "execution_count": 42,
   "metadata": {
    "colab": {
     "base_uri": "https://localhost:8080/",
     "height": 35
    },
    "colab_type": "code",
    "id": "S1Mz_9CutrRq",
    "outputId": "cab0e0da-24aa-4580-8ac1-9784ca51eba1"
   },
   "outputs": [
    {
     "name": "stdout",
     "output_type": "stream",
     "text": [
      "Accuracy is  0.9542436748609366\n"
     ]
    }
   ],
   "source": [
    "count = 0\n",
    "for i in range(len(y_pred)):\n",
    "  p = np.argmax(y_pred[i], axis=-1)\n",
    "  for w, t, pred in zip(X_word_te[i], y_te[i], p):\n",
    "      if w != 0:\n",
    "        if idx2tag[t]==idx2tag[pred]:\n",
    "          count+=1\n",
    "\n",
    "print(\"Accuracy is \",count/len(y_pred))"
   ]
  },
  {
   "cell_type": "markdown",
   "metadata": {
    "colab_type": "text",
    "id": "s3L1d9XjsAND"
   },
   "source": [
    "While this accuracy is very good, we can achieve SOTA using ELMO embeddings. The next section discusses the code and procedure."
   ]
  },
  {
   "cell_type": "markdown",
   "metadata": {
    "colab_type": "text",
    "id": "9w-H1yV-Mw-L"
   },
   "source": [
    "##4.2 - Using ELMO"
   ]
  },
  {
   "cell_type": "markdown",
   "metadata": {
    "colab_type": "text",
    "id": "TvryrrN4qKWI"
   },
   "source": [
    "ELMo embeddings are embeddings from a language model trained on the 1 Billion Word Benchmark. Unlike most widely used word embeddings, ELMo word representations are functions of the entire input sentence. They are computed on top of two-layer bidirectional language model with character convolutions, as a linear function of the internal network states. Exisiting literature has shown remarkable performance by ELMO elmbeddings compared to other context aware embeddings. Hence, I am using this."
   ]
  },
  {
   "cell_type": "code",
   "execution_count": 0,
   "metadata": {
    "colab": {},
    "colab_type": "code",
    "id": "BtWmYr2kMyaR"
   },
   "outputs": [],
   "source": [
    "max_len = 2\n",
    "tag2idx = {t: i for i, t in enumerate(tags)}"
   ]
  },
  {
   "cell_type": "markdown",
   "metadata": {
    "colab_type": "text",
    "id": "1PByhtZHqh0d"
   },
   "source": [
    "For the use of neural nets we need to use equal-length input sequences. So I am going to pad my sentences to a length of 2. But first I need a dictionary of tags to map my labels to numbers. I could have padded with a length of 2 or 50, it simply does not matter."
   ]
  },
  {
   "cell_type": "code",
   "execution_count": 44,
   "metadata": {
    "colab": {
     "base_uri": "https://localhost:8080/",
     "height": 35
    },
    "colab_type": "code",
    "id": "aITl4krLM4Zf",
    "outputId": "15229e25-255f-4700-8a3f-dd6dfe6375fe"
   },
   "outputs": [
    {
     "data": {
      "text/plain": [
       "[['@paulwalk'], ['It'], [\"'s\"], ['the']]"
      ]
     },
     "execution_count": 44,
     "metadata": {
      "tags": []
     },
     "output_type": "execute_result"
    }
   ],
   "source": [
    "X = [[w[0] for w in s] for s in data]\n",
    "X[0:4]"
   ]
  },
  {
   "cell_type": "markdown",
   "metadata": {
    "colab_type": "text",
    "id": "SETYPLs2sVz9"
   },
   "source": [
    "This is how a padded sequence will look"
   ]
  },
  {
   "cell_type": "code",
   "execution_count": 45,
   "metadata": {
    "colab": {
     "base_uri": "https://localhost:8080/",
     "height": 90
    },
    "colab_type": "code",
    "id": "VG7hQVoBNDIh",
    "outputId": "4ff96151-a081-4dc5-fad5-d223f6b6fcde"
   },
   "outputs": [
    {
     "data": {
      "text/plain": [
       "[['@paulwalk', '__PAD__'],\n",
       " ['It', '__PAD__'],\n",
       " [\"'s\", '__PAD__'],\n",
       " ['the', '__PAD__']]"
      ]
     },
     "execution_count": 45,
     "metadata": {
      "tags": []
     },
     "output_type": "execute_result"
    }
   ],
   "source": [
    "new_X = []\n",
    "for seq in X:\n",
    "    new_seq = []\n",
    "    for i in range(max_len):\n",
    "        try:\n",
    "            new_seq.append(seq[i])\n",
    "        except:\n",
    "            new_seq.append(\"__PAD__\")\n",
    "    new_X.append(new_seq)\n",
    "X = new_X\n",
    "X[0:4]"
   ]
  },
  {
   "cell_type": "code",
   "execution_count": 0,
   "metadata": {
    "colab": {},
    "colab_type": "code",
    "id": "gT9aIDEmNHOh"
   },
   "outputs": [],
   "source": [
    "y = [[tag2idx[w[2]] for w in s] for s in data]  # Repeat above process for the tags"
   ]
  },
  {
   "cell_type": "code",
   "execution_count": 0,
   "metadata": {
    "colab": {},
    "colab_type": "code",
    "id": "g4tSDny5NS-K"
   },
   "outputs": [],
   "source": [
    "from keras.preprocessing.sequence import pad_sequences\n",
    "y = pad_sequences(maxlen=max_len, sequences=y, padding=\"post\", value=tag2idx[\"O\"])"
   ]
  },
  {
   "cell_type": "code",
   "execution_count": 48,
   "metadata": {
    "colab": {
     "base_uri": "https://localhost:8080/",
     "height": 35
    },
    "colab_type": "code",
    "id": "CcrD6VWdNWQH",
    "outputId": "fb155e37-59f0-4a82-b24c-b4af09b3baa4"
   },
   "outputs": [
    {
     "data": {
      "text/plain": [
       "array([7, 7], dtype=int32)"
      ]
     },
     "execution_count": 48,
     "metadata": {
      "tags": []
     },
     "output_type": "execute_result"
    }
   ],
   "source": [
    "y[1]"
   ]
  },
  {
   "cell_type": "code",
   "execution_count": 0,
   "metadata": {
    "colab": {},
    "colab_type": "code",
    "id": "pePUW0FQNXn-"
   },
   "outputs": [],
   "source": [
    "X_tr, X_te, y_tr, y_te = train_test_split(X, y, test_size=0.1, random_state=2018)"
   ]
  },
  {
   "cell_type": "code",
   "execution_count": 0,
   "metadata": {
    "colab": {},
    "colab_type": "code",
    "id": "84NX41u7Na9K"
   },
   "outputs": [],
   "source": [
    "batch_size = 32"
   ]
  },
  {
   "cell_type": "markdown",
   "metadata": {
    "colab_type": "text",
    "id": "GV93JtgdskGP"
   },
   "source": [
    "### Initializing the ELMO embeddings from tensorflow hub"
   ]
  },
  {
   "cell_type": "code",
   "execution_count": 0,
   "metadata": {
    "colab": {},
    "colab_type": "code",
    "id": "9nEHasNFNdKT"
   },
   "outputs": [],
   "source": [
    "import tensorflow as tf\n",
    "import tensorflow_hub as hub\n",
    "from keras import backend as K"
   ]
  },
  {
   "cell_type": "code",
   "execution_count": 0,
   "metadata": {
    "colab": {},
    "colab_type": "code",
    "id": "VZYQlwKLNeuw"
   },
   "outputs": [],
   "source": [
    "sess = tf.Session()\n",
    "K.set_session(sess)"
   ]
  },
  {
   "cell_type": "code",
   "execution_count": 0,
   "metadata": {
    "colab": {},
    "colab_type": "code",
    "id": "1QOfYQgDNgvn"
   },
   "outputs": [],
   "source": [
    "elmo_model = hub.Module(\"https://tfhub.dev/google/elmo/2\", trainable=True)\n",
    "sess.run(tf.global_variables_initializer())\n",
    "sess.run(tf.tables_initializer())"
   ]
  },
  {
   "cell_type": "markdown",
   "metadata": {
    "colab_type": "text",
    "id": "ahmpLhSrsth-"
   },
   "source": [
    "The below function takes a sequence of strings and returns a sequence of 1024-dimensional vectors of the ELMo embedding. I will later use this function with the Lambda layer of keras to get the embedding sequence."
   ]
  },
  {
   "cell_type": "code",
   "execution_count": 0,
   "metadata": {
    "colab": {},
    "colab_type": "code",
    "id": "1wFhgfqUNivH"
   },
   "outputs": [],
   "source": [
    "def ElmoEmbedding(x):\n",
    "    return elmo_model(inputs={\"tokens\": tf.squeeze(tf.cast(x, tf.string)),\"sequence_len\": tf.constant(batch_size*[max_len])},signature=\"tokens\",as_dict=True)[\"elmo\"]"
   ]
  },
  {
   "cell_type": "code",
   "execution_count": 0,
   "metadata": {
    "colab": {},
    "colab_type": "code",
    "id": "3-9MuKhANpd4"
   },
   "outputs": [],
   "source": [
    "from keras.models import Model, Input\n",
    "from keras.layers.merge import add\n",
    "from keras.layers import LSTM, Embedding, Dense, TimeDistributed, Dropout, Bidirectional, Lambda"
   ]
  },
  {
   "cell_type": "code",
   "execution_count": 56,
   "metadata": {
    "colab": {
     "base_uri": "https://localhost:8080/",
     "height": 54
    },
    "colab_type": "code",
    "id": "4AjS7ZGQNrRi",
    "outputId": "aea28d2b-5ac3-4da4-fccd-52369de29fe9"
   },
   "outputs": [
    {
     "name": "stdout",
     "output_type": "stream",
     "text": [
      "INFO:tensorflow:Saver not created because there are no variables in the graph to restore\n"
     ]
    },
    {
     "name": "stderr",
     "output_type": "stream",
     "text": [
      "INFO:tensorflow:Saver not created because there are no variables in the graph to restore\n"
     ]
    }
   ],
   "source": [
    "input_text = Input(shape=(max_len,), dtype=tf.string)\n",
    "embedding = Lambda(ElmoEmbedding, output_shape=(max_len, 1024))(input_text)\n",
    "x = Bidirectional(LSTM(units=512, return_sequences=True,\n",
    "                       recurrent_dropout=0.2, dropout=0.2))(embedding)\n",
    "x_rnn = Bidirectional(LSTM(units=512, return_sequences=True,\n",
    "                           recurrent_dropout=0.2, dropout=0.2))(x)\n",
    "x = add([x, x_rnn])  # residual connection to the first biLSTM\n",
    "out = TimeDistributed(Dense(n_tags, activation=\"softmax\"))(x)"
   ]
  },
  {
   "cell_type": "code",
   "execution_count": 0,
   "metadata": {
    "colab": {},
    "colab_type": "code",
    "id": "eykizVTHNtfl"
   },
   "outputs": [],
   "source": [
    "model = Model(input_text, out)\n",
    "model.compile(optimizer=\"adam\", loss=\"sparse_categorical_crossentropy\", metrics=[\"accuracy\"])"
   ]
  },
  {
   "cell_type": "markdown",
   "metadata": {
    "colab_type": "text",
    "id": "YpYJMP7gtK8O"
   },
   "source": [
    "I made the number of samples divisible by the batch_size to make it work. For some reason, I couldn't generalize it. You will find the same issue is when I test the model with the \"test.txt\" file. "
   ]
  },
  {
   "cell_type": "code",
   "execution_count": 0,
   "metadata": {
    "colab": {},
    "colab_type": "code",
    "id": "uh7wwV4wOibq"
   },
   "outputs": [],
   "source": [
    "X_tr, X_val = X_tr[:1213*batch_size], X_tr[-135*batch_size:]\n",
    "y_tr, y_val = y_tr[:1213*batch_size], y_tr[-135*batch_size:]\n",
    "y_tr = y_tr.reshape(y_tr.shape[0], y_tr.shape[1], 1)\n",
    "y_val = y_val.reshape(y_val.shape[0], y_val.shape[1], 1)"
   ]
  },
  {
   "cell_type": "code",
   "execution_count": 59,
   "metadata": {
    "colab": {
     "base_uri": "https://localhost:8080/",
     "height": 181
    },
    "colab_type": "code",
    "id": "rojwtUf3OjQq",
    "outputId": "b3fa2370-7088-4daf-f689-6341e575deb8"
   },
   "outputs": [
    {
     "name": "stdout",
     "output_type": "stream",
     "text": [
      "Train on 38816 samples, validate on 4320 samples\n",
      "Epoch 1/4\n",
      "38816/38816 [==============================] - 58s 1ms/step - loss: 0.0970 - acc: 0.9790 - val_loss: 0.0904 - val_acc: 0.9797\n",
      "Epoch 2/4\n",
      "38816/38816 [==============================] - 52s 1ms/step - loss: 0.0753 - acc: 0.9820 - val_loss: 0.0886 - val_acc: 0.9801\n",
      "Epoch 3/4\n",
      "38816/38816 [==============================] - 52s 1ms/step - loss: 0.0649 - acc: 0.9835 - val_loss: 0.0918 - val_acc: 0.9802\n",
      "Epoch 4/4\n",
      "38816/38816 [==============================] - 52s 1ms/step - loss: 0.0553 - acc: 0.9848 - val_loss: 0.0970 - val_acc: 0.9802\n"
     ]
    }
   ],
   "source": [
    "history = model.fit(np.array(X_tr), y_tr, validation_data=(np.array(X_val), y_val),\n",
    "                    batch_size=batch_size, epochs=4, verbose=1)"
   ]
  },
  {
   "cell_type": "markdown",
   "metadata": {
    "colab_type": "text",
    "id": "7DSVVTILtcKp"
   },
   "source": [
    "### It is pretty evident that this model produces the best result out of the lot. As a reult, I will generate the submission file using this residual LSTM network with ELMO  embeddings"
   ]
  },
  {
   "cell_type": "markdown",
   "metadata": {
    "colab_type": "text",
    "id": "Msm7tDAottoZ"
   },
   "source": [
    "A preview of the predictions"
   ]
  },
  {
   "cell_type": "code",
   "execution_count": 60,
   "metadata": {
    "colab": {
     "base_uri": "https://localhost:8080/",
     "height": 181
    },
    "colab_type": "code",
    "id": "hnKIKJ-zQcv8",
    "outputId": "1e8a1311-5cd5-45e6-b96b-4dfaafed19b7"
   },
   "outputs": [
    {
     "name": "stdout",
     "output_type": "stream",
     "text": [
      "Word            Predicted_label True_label\n",
      "=============================================\n",
      "more                 O               O\n",
      "=============================================\n",
      "buy                  O               O\n",
      "=============================================\n",
      "and                  O               O\n",
      "=============================================\n",
      "had                  O               O\n"
     ]
    }
   ],
   "source": [
    "print(\"{:15} {:10} {}\".format(\"Word\", \"Predicted_label\", \"True_label\"))\n",
    "for i in range(4):\n",
    "  p = model.predict(np.array(X_te[i:i+batch_size]))[0]\n",
    "  p = np.argmax(p, axis=-1)\n",
    "\n",
    "  print(\"=\"*45)\n",
    "  for w, true, pred in zip(X_te[i], y_te[i], p):\n",
    "      if w != \"__PAD__\":\n",
    "          print(\"{:20} {:15} {}\".format(w, tags[pred], tags[true]))"
   ]
  },
  {
   "cell_type": "code",
   "execution_count": 0,
   "metadata": {
    "colab": {},
    "colab_type": "code",
    "id": "Of_QNYJ1RMug"
   },
   "outputs": [],
   "source": [
    "count = 0\n",
    "X_te.extend([[\"__PAD__\"]]*(2*batch_size))\n",
    "for i in range(len(X_te)):\n",
    "  try:\n",
    "    p = model.predict(np.array(X_te[i:i+batch_size]))[0]\n",
    "    p = np.argmax(p, axis=-1)\n",
    "    for w, true, pred in zip(X_te[i], y_te[i], p):\n",
    "        if w != \"__PAD__\":\n",
    "          if true==pred:\n",
    "            count+=1\n",
    "  except:\n",
    "    break\n"
   ]
  },
  {
   "cell_type": "markdown",
   "metadata": {
    "colab_type": "text",
    "id": "igSs-YdYT49d"
   },
   "source": [
    "### The test accuracy for the model is highest of all the methods I implemented so far."
   ]
  },
  {
   "cell_type": "code",
   "execution_count": 84,
   "metadata": {
    "colab": {
     "base_uri": "https://localhost:8080/",
     "height": 35
    },
    "colab_type": "code",
    "id": "BQ93Rta2SYmZ",
    "outputId": "b72ff11f-ea1b-49f9-a777-efd49323ebb8"
   },
   "outputs": [
    {
     "name": "stdout",
     "output_type": "stream",
     "text": [
      "Accuracy is  0.9562174771218375\n"
     ]
    }
   ],
   "source": [
    "print(\"Accuracy is \",count/(len(X_te)-(2*batch_size)))"
   ]
  },
  {
   "cell_type": "markdown",
   "metadata": {
    "colab_type": "text",
    "id": "NXELhKTktxJP"
   },
   "source": [
    "# Import the test data and pad the sequences"
   ]
  },
  {
   "cell_type": "code",
   "execution_count": 61,
   "metadata": {
    "colab": {
     "base_uri": "https://localhost:8080/",
     "height": 35
    },
    "colab_type": "code",
    "id": "K0BXiDxXQhBM",
    "outputId": "10758482-ca3e-4a4e-8e3a-34ebcb6391b0"
   },
   "outputs": [
    {
     "data": {
      "text/plain": [
       "[['&'], ['gt'], [';']]"
      ]
     },
     "execution_count": 61,
     "metadata": {
      "tags": []
     },
     "output_type": "execute_result"
    }
   ],
   "source": [
    "import csv\n",
    "test_data = pd.read_csv(\"test.txt\", sep=\"\\t\", header=None,names=[\"Name\"],quoting=csv.QUOTE_NONE,encoding='utf-8')\n",
    "test_data = test_data.dropna()\n",
    "test_data_list = test_data.values.tolist()\n",
    "test_data_list.extend([[\"__PAD__\"]]*(2*batch_size))\n",
    "test_data_list[:3]"
   ]
  },
  {
   "cell_type": "code",
   "execution_count": 0,
   "metadata": {
    "colab": {},
    "colab_type": "code",
    "id": "IgaL6hOORwBt"
   },
   "outputs": [],
   "source": [
    "new_test_X = []\n",
    "for seq in test_data_list:\n",
    "    new_seq = []\n",
    "    for i in range(max_len):\n",
    "        try:\n",
    "            new_seq.append(seq[i])\n",
    "        except:\n",
    "            new_seq.append(\"__PAD__\")\n",
    "    new_test_X.append(new_seq)\n",
    "test_X = new_test_X"
   ]
  },
  {
   "cell_type": "markdown",
   "metadata": {
    "colab_type": "text",
    "id": "-YeYneOqt5Xx"
   },
   "source": [
    "After padding, the test sequence will look like this"
   ]
  },
  {
   "cell_type": "code",
   "execution_count": 63,
   "metadata": {
    "colab": {
     "base_uri": "https://localhost:8080/",
     "height": 35
    },
    "colab_type": "code",
    "id": "Veg0aFTjSTN6",
    "outputId": "b3a5c722-796f-4b05-c5fc-e0a1b4640176"
   },
   "outputs": [
    {
     "data": {
      "text/plain": [
       "[['&', '__PAD__'], ['gt', '__PAD__'], [';', '__PAD__'], ['*', '__PAD__']]"
      ]
     },
     "execution_count": 63,
     "metadata": {
      "tags": []
     },
     "output_type": "execute_result"
    }
   ],
   "source": [
    "test_X[0:4]"
   ]
  },
  {
   "cell_type": "markdown",
   "metadata": {
    "colab_type": "text",
    "id": "_7VOy_6Jt-GR"
   },
   "source": [
    "Preview the test predicitons"
   ]
  },
  {
   "cell_type": "code",
   "execution_count": 64,
   "metadata": {
    "colab": {
     "base_uri": "https://localhost:8080/",
     "height": 145
    },
    "colab_type": "code",
    "id": "ZW6a7QsIR58m",
    "outputId": "3ba6fc8b-1d55-4f58-f922-b0a9993334bb"
   },
   "outputs": [
    {
     "name": "stdout",
     "output_type": "stream",
     "text": [
      "Word            Predicted Labels\n",
      "========================================\n",
      "&                        O     \n",
      "========================================\n",
      "gt                       O     \n",
      "========================================\n",
      ";                        O     \n"
     ]
    }
   ],
   "source": [
    "print(\"{:15} {:5}\".format(\"Word\", \"Predicted Labels\"))\n",
    "for i in range(3):\n",
    "  p = model.predict(np.array(test_X[i:i+batch_size]))[0]\n",
    "  p = np.argmax(p, axis=-1)\n",
    "\n",
    "  print(\"=\"*40)\n",
    "  for w,pred in zip(test_X[i], p):\n",
    "      if w != \"__PAD__\":\n",
    "          print(\"{:25}{:5} \".format(w, tags[pred]))"
   ]
  },
  {
   "cell_type": "markdown",
   "metadata": {
    "colab_type": "text",
    "id": "zA5kkeXbwE88"
   },
   "source": [
    "I encountered the end batch error as I had mentioned before. I am terminating this code block using try and except block. However, all the predictions are successfully made and appended."
   ]
  },
  {
   "cell_type": "code",
   "execution_count": 85,
   "metadata": {
    "colab": {
     "base_uri": "https://localhost:8080/",
     "height": 17
    },
    "colab_type": "code",
    "id": "5PDYzG3ESQwN",
    "outputId": "ab47c32c-d84b-409e-ef79-0fc49e5a4dcd"
   },
   "outputs": [
    {
     "name": "stdout",
     "output_type": "stream",
     "text": []
    }
   ],
   "source": [
    "predictions = []\n",
    "count = 0\n",
    "for i in range(len(test_X)):\n",
    "  try:\n",
    "    p = model.predict(np.array(test_X[i:i+batch_size]))[0]\n",
    "    p = np.argmax(p, axis=-1)\n",
    "\n",
    "    for w,pred in zip(test_X[i], p):\n",
    "        if w != \"__PAD__\":\n",
    "          predictions.append(tags[pred])\n",
    "          print('count = ', count, end='\\r')\n",
    "    count+=1\n",
    "  except:\n",
    "    break\n"
   ]
  },
  {
   "cell_type": "markdown",
   "metadata": {
    "colab_type": "text",
    "id": "HXRIcVT3Zs8q"
   },
   "source": [
    "# 5. Bonus Question -  Generating confidence score for predictions"
   ]
  },
  {
   "cell_type": "code",
   "execution_count": 0,
   "metadata": {
    "colab": {},
    "colab_type": "code",
    "id": "rFZVNz86Zaot"
   },
   "outputs": [],
   "source": [
    "conf_score = []\n",
    "count = 0\n",
    "for i in range(len(test_X)):\n",
    "  try:\n",
    "    p = model.predict(np.array(test_X[i:i+batch_size]))[0]\n",
    "    p = np.max(p, axis=-1)[0]\n",
    "    conf_score.append(p)\n",
    "  except:\n",
    "    break"
   ]
  },
  {
   "cell_type": "markdown",
   "metadata": {
    "colab_type": "text",
    "id": "IJ9mfg0OwmmV"
   },
   "source": [
    "## Create the submission file"
   ]
  },
  {
   "cell_type": "code",
   "execution_count": 101,
   "metadata": {
    "colab": {
     "base_uri": "https://localhost:8080/",
     "height": 206
    },
    "colab_type": "code",
    "id": "gSNP4Q4UX3jx",
    "outputId": "77e5d0fa-1c03-48cf-c47c-06c14f367899"
   },
   "outputs": [
    {
     "data": {
      "text/html": [
       "<div>\n",
       "<style scoped>\n",
       "    .dataframe tbody tr th:only-of-type {\n",
       "        vertical-align: middle;\n",
       "    }\n",
       "\n",
       "    .dataframe tbody tr th {\n",
       "        vertical-align: top;\n",
       "    }\n",
       "\n",
       "    .dataframe thead th {\n",
       "        text-align: right;\n",
       "    }\n",
       "</style>\n",
       "<table border=\"1\" class=\"dataframe\">\n",
       "  <thead>\n",
       "    <tr style=\"text-align: right;\">\n",
       "      <th></th>\n",
       "      <th>Name</th>\n",
       "      <th>Predicted Tag</th>\n",
       "      <th>Confidence Score</th>\n",
       "    </tr>\n",
       "  </thead>\n",
       "  <tbody>\n",
       "    <tr>\n",
       "      <th>23388</th>\n",
       "      <td>with</td>\n",
       "      <td>O</td>\n",
       "      <td>0.995202</td>\n",
       "    </tr>\n",
       "    <tr>\n",
       "      <th>23389</th>\n",
       "      <td>this</td>\n",
       "      <td>O</td>\n",
       "      <td>0.999267</td>\n",
       "    </tr>\n",
       "    <tr>\n",
       "      <th>23390</th>\n",
       "      <td>dress</td>\n",
       "      <td>O</td>\n",
       "      <td>0.999869</td>\n",
       "    </tr>\n",
       "    <tr>\n",
       "      <th>23391</th>\n",
       "      <td>code</td>\n",
       "      <td>O</td>\n",
       "      <td>0.953659</td>\n",
       "    </tr>\n",
       "    <tr>\n",
       "      <th>23392</th>\n",
       "      <td>😂</td>\n",
       "      <td>O</td>\n",
       "      <td>0.971562</td>\n",
       "    </tr>\n",
       "  </tbody>\n",
       "</table>\n",
       "</div>"
      ],
      "text/plain": [
       "        Name Predicted Tag  Confidence Score\n",
       "23388   with             O          0.995202\n",
       "23389   this             O          0.999267\n",
       "23390  dress             O          0.999869\n",
       "23391   code             O          0.953659\n",
       "23392      😂             O          0.971562"
      ]
     },
     "execution_count": 101,
     "metadata": {
      "tags": []
     },
     "output_type": "execute_result"
    }
   ],
   "source": [
    "sub_data = pd.DataFrame(\n",
    "          {'Name': test_data_list[:23393],\n",
    "           'Predicted Tag': predictions[:23393],\n",
    "           'Confidence Score': conf_score[:23393]\n",
    "    })\n",
    "\n",
    "sub_data['Name'] = sub_data['Name'].str[0]\n",
    "sub_data.tail()"
   ]
  },
  {
   "cell_type": "code",
   "execution_count": 0,
   "metadata": {
    "colab": {},
    "colab_type": "code",
    "id": "-Nv7GWyykbjQ"
   },
   "outputs": [],
   "source": [
    "sub_data.to_csv(\"submisison.txt\", sep='\\t', encoding='utf-8', index=False)"
   ]
  },
  {
   "cell_type": "code",
   "execution_count": 99,
   "metadata": {
    "colab": {
     "base_uri": "https://localhost:8080/",
     "height": 35
    },
    "colab_type": "code",
    "id": "ArD-kUfZKO4u",
    "outputId": "59d3cf81-fb02-4369-c434-05981b1b269d"
   },
   "outputs": [
    {
     "name": "stdout",
     "output_type": "stream",
     "text": [
      "submission saved\n"
     ]
    }
   ],
   "source": [
    "print(\"submission saved\")"
   ]
  }
 ],
 "metadata": {
  "accelerator": "GPU",
  "colab": {
   "collapsed_sections": [],
   "machine_shape": "hm",
   "name": "Infrrd Coding Challenge.ipynb",
   "provenance": [],
   "toc_visible": true
  },
  "kernelspec": {
   "display_name": "Python 3",
   "language": "python",
   "name": "python3"
  },
  "language_info": {
   "codemirror_mode": {
    "name": "ipython",
    "version": 3
   },
   "file_extension": ".py",
   "mimetype": "text/x-python",
   "name": "python",
   "nbconvert_exporter": "python",
   "pygments_lexer": "ipython3",
   "version": "3.7.3"
  }
 },
 "nbformat": 4,
 "nbformat_minor": 1
}
