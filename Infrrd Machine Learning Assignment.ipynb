{
 "cells": [
  {
   "cell_type": "markdown",
   "metadata": {},
   "source": [
    "# NER Coding Challenge"
   ]
  },
  {
   "cell_type": "markdown",
   "metadata": {},
   "source": [
    "## 1 - Load the given training dataset"
   ]
  },
  {
   "cell_type": "code",
   "execution_count": 1,
   "metadata": {},
   "outputs": [],
   "source": [
    "import pandas as pd\n",
    "train_data = pd.read_csv(\"C:/Users/Sanjeev Narayanan/Desktop/Machine Learning Assingment/Wnut17 NER/train.txt\", sep=\"\\t\", header=None,names=[\"Name\", \"Tag\"])"
   ]
  },
  {
   "cell_type": "markdown",
   "metadata": {},
   "source": [
    "## 1.1 - Understand what's there in the data - Exploratory Data Analysis\n",
    " First, the data is loaded into a Pandas DataFrame. This can be done easily using the read_csv function, specifying that the separator is a tab space."
   ]
  },
  {
   "cell_type": "code",
   "execution_count": 2,
   "metadata": {},
   "outputs": [
    {
     "data": {
      "text/html": [
       "<div>\n",
       "<style scoped>\n",
       "    .dataframe tbody tr th:only-of-type {\n",
       "        vertical-align: middle;\n",
       "    }\n",
       "\n",
       "    .dataframe tbody tr th {\n",
       "        vertical-align: top;\n",
       "    }\n",
       "\n",
       "    .dataframe thead th {\n",
       "        text-align: right;\n",
       "    }\n",
       "</style>\n",
       "<table border=\"1\" class=\"dataframe\">\n",
       "  <thead>\n",
       "    <tr style=\"text-align: right;\">\n",
       "      <th></th>\n",
       "      <th>Name</th>\n",
       "      <th>Tag</th>\n",
       "    </tr>\n",
       "  </thead>\n",
       "  <tbody>\n",
       "    <tr>\n",
       "      <th>0</th>\n",
       "      <td>@paulwalk</td>\n",
       "      <td>O</td>\n",
       "    </tr>\n",
       "    <tr>\n",
       "      <th>1</th>\n",
       "      <td>It</td>\n",
       "      <td>O</td>\n",
       "    </tr>\n",
       "    <tr>\n",
       "      <th>2</th>\n",
       "      <td>'s</td>\n",
       "      <td>O</td>\n",
       "    </tr>\n",
       "    <tr>\n",
       "      <th>3</th>\n",
       "      <td>the</td>\n",
       "      <td>O</td>\n",
       "    </tr>\n",
       "    <tr>\n",
       "      <th>4</th>\n",
       "      <td>view</td>\n",
       "      <td>O</td>\n",
       "    </tr>\n",
       "  </tbody>\n",
       "</table>\n",
       "</div>"
      ],
      "text/plain": [
       "        Name Tag\n",
       "0  @paulwalk   O\n",
       "1         It   O\n",
       "2         's   O\n",
       "3        the   O\n",
       "4       view   O"
      ]
     },
     "execution_count": 2,
     "metadata": {},
     "output_type": "execute_result"
    }
   ],
   "source": [
    "train_data.head()"
   ]
  },
  {
   "cell_type": "markdown",
   "metadata": {},
   "source": [
    "### Are there any NaN rows? If yes, remove them."
   ]
  },
  {
   "cell_type": "code",
   "execution_count": 3,
   "metadata": {},
   "outputs": [
    {
     "name": "stdout",
     "output_type": "stream",
     "text": [
      "Number of Nan rows is 2168\n"
     ]
    }
   ],
   "source": [
    "nan_rows = train_data[train_data['Name'].isnull()]\n",
    "print(\"Number of Nan rows is %d\" %(len(nan_rows)))"
   ]
  },
  {
   "cell_type": "code",
   "execution_count": 4,
   "metadata": {},
   "outputs": [
    {
     "name": "stdout",
     "output_type": "stream",
     "text": [
      "New training data length is 55725\n"
     ]
    }
   ],
   "source": [
    "train_data = train_data.dropna()\n",
    "print(\"New training data length is %d\" %(len(train_data)))"
   ]
  },
  {
   "cell_type": "markdown",
   "metadata": {},
   "source": [
    "### What are the entity tags?"
   ]
  },
  {
   "cell_type": "code",
   "execution_count": 6,
   "metadata": {},
   "outputs": [
    {
     "name": "stdout",
     "output_type": "stream",
     "text": [
      "[['O', 52997], ['B-person', 566], ['B-location', 494], ['I-person', 288], ['B-group', 230], ['I-location', 226], ['B-corporation', 196], ['I-product', 163], ['I-creative-work', 150], ['I-group', 132], ['B-product', 130], ['B-creative-work', 110], ['I-corporation', 43]]\n"
     ]
    },
    {
     "data": {
      "image/png": "[encoded data removed]",
      "text/plain": [
       "<Figure size 432x288 with 1 Axes>"
      ]
     },
     "metadata": {
      "needs_background": "light"
     },
     "output_type": "display_data"
    }
   ],
   "source": [
    "tags_list = train_data.Tag.value_counts().reset_index().values.tolist()\n",
    "print(tags_list)\n",
    "import matplotlib.pyplot as plt\n",
    "tag_vals = [i[0] for i in tags_list]\n",
    "counts = [i[1] for i in tags_list]\n",
    "plt.bar(range(0,len(tag_vals)),counts)\n",
    "plt.xticks(range(0,len(tag_vals)), tag_vals, rotation='vertical')\n",
    "plt.xlabel(\"Tags\")\n",
    "plt.ylabel(\"Counts of tags\")\n",
    "plt.show()"
   ]
  },
  {
   "cell_type": "markdown",
   "metadata": {},
   "source": [
    "We see that the tags are in \"BIO\" format. BIO stands for Beginning, Inside and Outside (of a text segment). In a system that recognizes entity boundaries only, only three labels are used: B, I and O. What is also understood from the above output is that the tags are not evenly distributed. Since the class 'O' is more than the rest, we shall neglect it and make use of the remaining tags."
   ]
  },
  {
   "cell_type": "code",
   "execution_count": 7,
   "metadata": {},
   "outputs": [
    {
     "name": "stdout",
     "output_type": "stream",
     "text": [
      "[['B-person', 566], ['B-location', 494], ['I-person', 288], ['B-group', 230], ['I-location', 226], ['B-corporation', 196], ['I-product', 163], ['I-creative-work', 150], ['I-group', 132], ['B-product', 130], ['B-creative-work', 110], ['I-corporation', 43]]\n"
     ]
    },
    {
     "data": {
      "image/png": "[encoded data removed]",
      "text/plain": [
       "<Figure size 432x288 with 1 Axes>"
      ]
     },
     "metadata": {
      "needs_background": "light"
     },
     "output_type": "display_data"
    }
   ],
   "source": [
    "tags_list.pop(0)\n",
    "print(tags_list)\n",
    "tag_vals = [i[0] for i in tags_list]\n",
    "counts = [i[1] for i in tags_list]\n",
    "plt.bar(range(0,len(tag_vals)),counts)\n",
    "plt.xticks(range(0,len(tag_vals)), tag_vals, rotation='vertical')\n",
    "plt.xlabel(\"Tags\")\n",
    "plt.ylabel(\"Counts of tags\")\n",
    "plt.show()"
   ]
  },
  {
   "cell_type": "markdown",
   "metadata": {},
   "source": [
    "### What else are present in the dataset?"
   ]
  },
  {
   "cell_type": "code",
   "execution_count": 12,
   "metadata": {},
   "outputs": [],
   "source": [
    "Tag = namedtuple(\"Tag\", [\"token\", \"tag\"])\n",
    "def load_sequences(filename, sep=\"\\t\", notypes=False):\n",
    "    tag_count = defaultdict(int)\n",
    "    sequences = []\n",
    "    with open(filename) as fp:\n",
    "        seq = []\n",
    "        for line in fp:\n",
    "            line = line.strip()\n",
    "            if line:\n",
    "                line = line.split(sep)\n",
    "                if notypes:\n",
    "                    line[1] = line[1][0]\n",
    "                tag_count[line[1]] += 1\n",
    "                #print line\n",
    "                seq.append(Tag(*line))\n",
    "            else:\n",
    "                sequences.append(seq)\n",
    "                seq = []\n",
    "        if seq:\n",
    "            sequences.append(seq)\n",
    "    return sequences, tag_count"
   ]
  },
  {
   "cell_type": "code",
   "execution_count": 13,
   "metadata": {},
   "outputs": [],
   "source": [
    "sequences, tag_count = load_sequences(\"C:/Users/Sanjeev Narayanan/Desktop/Machine Learning Assingment/Wnut17 NER/train.txt\", sep=\"\\t\")"
   ]
  },
  {
   "cell_type": "code",
   "execution_count": 14,
   "metadata": {},
   "outputs": [],
   "source": [
    "import re\n",
    "URL_REGEX = re.compile(r'^http[s]?://')\n",
    "assert URL_REGEX.match(\"http://Google.com\") is not None\n",
    "assert URL_REGEX.match(\"https://Google.com\") is not None\n",
    "assert URL_REGEX.match(\"abchttps://Google.com\") is None\n",
    "REPEATED_CHAR_REGEX=re.compile(r'^[\\.\\,!\\?\"\\':;_\\-]{2,}$')\n",
    "assert REPEATED_CHAR_REGEX.match(\"!\") is None\n",
    "assert REPEATED_CHAR_REGEX.match(\"!!\") is not None\n",
    "assert REPEATED_CHAR_REGEX.match(\"!?...!\") is not None\n",
    "assert REPEATED_CHAR_REGEX.match('\".') is not None\n",
    "assert REPEATED_CHAR_REGEX.match(\"aaaaa\") is None\n",
    "assert REPEATED_CHAR_REGEX.match('\\\".') is not None\n",
    "WORD_REGEX=re.compile(r'^([A-Za-z]+[\\'\\-\\.]?)+$')\n",
    "assert WORD_REGEX.match(\"ABC\") is not None\n",
    "assert WORD_REGEX.match(\"ABC-D\") is not None\n",
    "assert WORD_REGEX.match(\"ABC'D\") is not None\n",
    "assert WORD_REGEX.match(\"ABC.DFC.\") is not None\n",
    "assert WORD_REGEX.match(\"9-1\") is None\n",
    "assert WORD_REGEX.match(\"A.B.C\") is not None\n",
    "NUMBER_REGEX=re.compile(r'^(([0-9]*[.]?[0-9]+)|([0-9]+[,]?[0-9]+))$')\n",
    "assert NUMBER_REGEX.match(\"123\") is not None\n",
    "assert NUMBER_REGEX.match(\"123,4\") is not None\n",
    "assert NUMBER_REGEX.match(\"12.5\") is not None\n",
    "assert NUMBER_REGEX.match(\".5\") is not None\n",
    "assert NUMBER_REGEX.match(\"12-A\") is None\n",
    "assert NUMBER_REGEX.match(\",55\") is None\n",
    "assert NUMBER_REGEX.match(\"5.5.55\") is None"
   ]
  },
  {
   "cell_type": "code",
   "execution_count": 15,
   "metadata": {},
   "outputs": [],
   "source": [
    "def get_token_type(t):\n",
    "    if len(t.token) > 1 and t.token[0] in ['\\'', '\\\"', '(', '-']:\n",
    "        return get_token_type(Tag(t.token[1:], t.tag))\n",
    "    if len(t.token) > 1 and t.token[0] == \"@\":\n",
    "        return \"Mentions\"\n",
    "    if len(t.token) > 1 and t.token[0] == \"#\":\n",
    "        return \"Hashtags\"\n",
    "    if len(t.token) > 1 and t.token[0] == \"$\":\n",
    "        return \"Money\"\n",
    "    if URL_REGEX.match(t.token):\n",
    "        return \"URLs\"\n",
    "    if NUMBER_REGEX.match(t.token):\n",
    "        return \"Numbers\"\n",
    "    if WORD_REGEX.match(t.token):\n",
    "        return \"Words\"\n",
    "    if t.token.isalnum():\n",
    "        return \"Alphanumeric characters\"\n",
    "    if REPEATED_CHAR_REGEX.match(t.token):\n",
    "        return \"Repeated characters\"\n",
    "    return \"Other\""
   ]
  },
  {
   "cell_type": "code",
   "execution_count": 16,
   "metadata": {},
   "outputs": [
    {
     "data": {
      "text/html": [
       "<div>\n",
       "<style scoped>\n",
       "    .dataframe tbody tr th:only-of-type {\n",
       "        vertical-align: middle;\n",
       "    }\n",
       "\n",
       "    .dataframe tbody tr th {\n",
       "        vertical-align: top;\n",
       "    }\n",
       "\n",
       "    .dataframe thead th {\n",
       "        text-align: right;\n",
       "    }\n",
       "</style>\n",
       "<table border=\"1\" class=\"dataframe\">\n",
       "  <thead>\n",
       "    <tr style=\"text-align: right;\">\n",
       "      <th></th>\n",
       "      <th>Type</th>\n",
       "      <th>Counts</th>\n",
       "    </tr>\n",
       "  </thead>\n",
       "  <tbody>\n",
       "    <tr>\n",
       "      <th>0</th>\n",
       "      <td>Words</td>\n",
       "      <td>48016</td>\n",
       "    </tr>\n",
       "    <tr>\n",
       "      <th>1</th>\n",
       "      <td>Other</td>\n",
       "      <td>8036</td>\n",
       "    </tr>\n",
       "    <tr>\n",
       "      <th>2</th>\n",
       "      <td>Mentions</td>\n",
       "      <td>1961</td>\n",
       "    </tr>\n",
       "    <tr>\n",
       "      <th>3</th>\n",
       "      <td>Repeated characters</td>\n",
       "      <td>1229</td>\n",
       "    </tr>\n",
       "    <tr>\n",
       "      <th>4</th>\n",
       "      <td>Numbers</td>\n",
       "      <td>1218</td>\n",
       "    </tr>\n",
       "    <tr>\n",
       "      <th>5</th>\n",
       "      <td>URLs</td>\n",
       "      <td>955</td>\n",
       "    </tr>\n",
       "    <tr>\n",
       "      <th>6</th>\n",
       "      <td>Hashtags</td>\n",
       "      <td>826</td>\n",
       "    </tr>\n",
       "    <tr>\n",
       "      <th>7</th>\n",
       "      <td>Alphanumeric characters</td>\n",
       "      <td>459</td>\n",
       "    </tr>\n",
       "    <tr>\n",
       "      <th>8</th>\n",
       "      <td>Money</td>\n",
       "      <td>30</td>\n",
       "    </tr>\n",
       "  </tbody>\n",
       "</table>\n",
       "</div>"
      ],
      "text/plain": [
       "                      Type  Counts\n",
       "0                    Words   48016\n",
       "1                    Other    8036\n",
       "2                 Mentions    1961\n",
       "3      Repeated characters    1229\n",
       "4                  Numbers    1218\n",
       "5                     URLs     955\n",
       "6                 Hashtags     826\n",
       "7  Alphanumeric characters     459\n",
       "8                    Money      30"
      ]
     },
     "execution_count": 16,
     "metadata": {},
     "output_type": "execute_result"
    }
   ],
   "source": [
    "from collections import namedtuple, defaultdict, Counter, OrderedDict\n",
    "pd.DataFrame(Counter(get_token_type(t) for seq in sequences for t in seq).most_common(), columns=[\"Type\", \"Counts\"])"
   ]
  },
  {
   "cell_type": "markdown",
   "metadata": {},
   "source": [
    "## 2 - Using basic algorithms like Perceptron, SGD classifier, Multinomial Naive Bayes classifier"
   ]
  },
  {
   "cell_type": "markdown",
   "metadata": {},
   "source": [
    "### Transform the given data into operable form using DictVectorizer. Use a 67-33 split to generate a dev set"
   ]
  },
  {
   "cell_type": "code",
   "execution_count": 18,
   "metadata": {},
   "outputs": [
    {
     "name": "stdout",
     "output_type": "stream",
     "text": [
      "(37335, 13794) (37335,)\n"
     ]
    }
   ],
   "source": [
    "from sklearn.feature_extraction import DictVectorizer\n",
    "from sklearn.model_selection import train_test_split\n",
    "import numpy as np\n",
    "X = train_data.drop('Tag', axis=1)\n",
    "v = DictVectorizer(sparse=False)\n",
    "X = v.fit_transform(X.to_dict('records'))\n",
    "y = train_data.Tag.values\n",
    "\n",
    "classes = np.unique(y)\n",
    "classes = classes.tolist()\n",
    "X_train, X_test, y_train, y_test = train_test_split(X, y, test_size = 0.33, random_state=0)\n",
    "print(X_train.shape, y_train.shape)"
   ]
  },
  {
   "cell_type": "markdown",
   "metadata": {},
   "source": [
    "#### Load the libraries for the classifiers"
   ]
  },
  {
   "cell_type": "code",
   "execution_count": 19,
   "metadata": {},
   "outputs": [],
   "source": [
    "from sklearn.linear_model import Perceptron\n",
    "from sklearn.linear_model import SGDClassifier\n",
    "from sklearn.naive_bayes import MultinomialNB\n",
    "from sklearn.metrics import classification_report"
   ]
  },
  {
   "cell_type": "markdown",
   "metadata": {},
   "source": [
    "### 2.1 Perceptron"
   ]
  },
  {
   "cell_type": "code",
   "execution_count": 20,
   "metadata": {},
   "outputs": [
    {
     "name": "stderr",
     "output_type": "stream",
     "text": [
      "[Parallel(n_jobs=-1)]: Using backend ThreadingBackend with 8 concurrent workers.\n"
     ]
    },
    {
     "name": "stdout",
     "output_type": "stream",
     "text": [
      "-- Epoch 1-- Epoch 1-- Epoch 1\n",
      "\n",
      "-- Epoch 1-- Epoch 1-- Epoch 1\n",
      "-- Epoch 1\n",
      "\n",
      "\n",
      "-- Epoch 1\n",
      "\n",
      "Norm: 10.15, NNZs: 94, Bias: -1.000000, T: 37335, Avg. loss: 0.002330\n",
      "Total training time: 1.72 seconds.\n",
      "Norm: 6.71, NNZs: 39, Bias: -1.000000, T: 37335, Avg. loss: 0.000857Norm: 13.15, NNZs: 149, Bias: -1.000000, T: 37335, Avg. loss: 0.002303\n",
      "Total training time: 1.75 seconds.\n",
      "\n",
      "Total training time: 1.72 seconds.\n",
      "-- Epoch 1\n",
      "Norm: 27.00, NNZs: 617, Bias: -1.000000, T: 37335, Avg. loss: 0.009214Norm: 10.77, NNZs: 99, Bias: -2.000000, T: 37335, Avg. loss: 0.003589Norm: 17.06, NNZs: 259, Bias: -1.000000, T: 37335, Avg. loss: 0.004741\n",
      "Total training time: 1.79 seconds.\n",
      "\n",
      "\n",
      "Total training time: 1.77 seconds.\n",
      "Total training time: 1.77 seconds.\n",
      "-- Epoch 1\n",
      "-- Epoch 1\n",
      "Norm: 24.84, NNZs: 518, Bias: -1.000000, T: 37335, Avg. loss: 0.008785-- Epoch 1\n",
      "Total training time: 1.85 seconds.\n"
     ]
    },
    {
     "name": "stderr",
     "output_type": "stream",
     "text": [
      "[Parallel(n_jobs=-1)]: Done   2 out of  13 | elapsed:    1.8s remaining:   10.2s\n",
      "[Parallel(n_jobs=-1)]: Done   4 out of  13 | elapsed:    1.8s remaining:    4.3s\n",
      "[Parallel(n_jobs=-1)]: Done   6 out of  13 | elapsed:    1.9s remaining:    2.2s\n",
      "[Parallel(n_jobs=-1)]: Done   8 out of  13 | elapsed:    1.9s remaining:    1.2s\n"
     ]
    },
    {
     "name": "stdout",
     "output_type": "stream",
     "text": [
      "-- Epoch 1\n",
      "\n",
      "Norm: 14.80, NNZs: 170, Bias: -1.000000, T: 37335, Avg. loss: 0.002437\n",
      "Total training time: 1.88 seconds.\n",
      "Norm: 10.15, NNZs: 97, Bias: -1.000000, T: 37335, Avg. loss: 0.002973\n",
      "Total training time: 1.09 seconds.\n",
      "Norm: 18.63, NNZs: 305, Bias: -1.000000, T: 37335, Avg. loss: 0.005277\n",
      "Total training time: 1.05 seconds.\n",
      "Norm: 15.75, NNZs: 221, Bias: -2.000000, T: 37335, Avg. loss: 0.004071\n",
      "Total training time: 1.16 seconds.\n",
      "Norm: 13.30, NNZs: 163, Bias: -1.000000, T: 37335, Avg. loss: 0.003589\n",
      "Total training time: 1.17 seconds.\n",
      "Norm: 57.73, NNZs: 2645, Bias: 1.000000, T: 37335, Avg. loss: 0.045909\n",
      "Total training time: 1.14 seconds.\n"
     ]
    },
    {
     "name": "stderr",
     "output_type": "stream",
     "text": [
      "[Parallel(n_jobs=-1)]: Done  10 out of  13 | elapsed:    2.9s remaining:    0.8s\n",
      "[Parallel(n_jobs=-1)]: Done  13 out of  13 | elapsed:    3.1s finished\n"
     ]
    },
    {
     "data": {
      "text/plain": [
       "Perceptron(alpha=0.0001, class_weight=None, early_stopping=False, eta0=1.0,\n",
       "           fit_intercept=True, max_iter=5, n_iter_no_change=5, n_jobs=-1,\n",
       "           penalty=None, random_state=0, shuffle=True, tol=0.001,\n",
       "           validation_fraction=0.1, verbose=10, warm_start=False)"
      ]
     },
     "execution_count": 20,
     "metadata": {},
     "output_type": "execute_result"
    }
   ],
   "source": [
    "per = Perceptron(verbose=10, n_jobs=-1, max_iter=5)\n",
    "per.partial_fit(X_train, y_train, classes)"
   ]
  },
  {
   "cell_type": "markdown",
   "metadata": {},
   "source": [
    "#### Evaluating the classification metric without the Tag 'O'"
   ]
  },
  {
   "cell_type": "code",
   "execution_count": 23,
   "metadata": {},
   "outputs": [
    {
     "name": "stdout",
     "output_type": "stream",
     "text": [
      "                 precision    recall  f1-score   support\n",
      "\n",
      "  B-corporation       0.69      0.36      0.47        67\n",
      "B-creative-work       0.40      0.10      0.16        41\n",
      "        B-group       0.42      0.15      0.22        68\n",
      "     B-location       0.73      0.28      0.40       165\n",
      "       B-person       0.72      0.28      0.41       186\n",
      "      B-product       0.47      0.18      0.26        38\n",
      "  I-corporation       0.00      0.00      0.00        16\n",
      "I-creative-work       0.00      0.00      0.00        53\n",
      "        I-group       0.25      0.12      0.16        51\n",
      "     I-location       0.60      0.04      0.07        83\n",
      "       I-person       0.67      0.17      0.27        93\n",
      "      I-product       0.59      0.20      0.29        51\n",
      "\n",
      "      micro avg       0.61      0.20      0.30       912\n",
      "      macro avg       0.46      0.16      0.23       912\n",
      "   weighted avg       0.57      0.20      0.28       912\n",
      "\n"
     ]
    }
   ],
   "source": [
    "new_classes = classes.copy()\n",
    "new_classes.pop()\n",
    "print(classification_report(y_pred=per.predict(X_test), y_true=y_test, labels=new_classes))"
   ]
  },
  {
   "cell_type": "markdown",
   "metadata": {},
   "source": [
    "### 2.2 SGD Classifier"
   ]
  },
  {
   "cell_type": "code",
   "execution_count": 22,
   "metadata": {},
   "outputs": [
    {
     "name": "stderr",
     "output_type": "stream",
     "text": [
      "C:\\Users\\Sanjeev Narayanan\\Anaconda3\\lib\\site-packages\\sklearn\\metrics\\classification.py:1437: UndefinedMetricWarning: Precision and F-score are ill-defined and being set to 0.0 in labels with no predicted samples.\n",
      "  'precision', 'predicted', average, warn_for)\n"
     ]
    },
    {
     "name": "stdout",
     "output_type": "stream",
     "text": [
      "                 precision    recall  f1-score   support\n",
      "\n",
      "  B-corporation       1.00      0.24      0.39        67\n",
      "B-creative-work       0.00      0.00      0.00        41\n",
      "        B-group       0.00      0.00      0.00        68\n",
      "     B-location       0.80      0.02      0.05       165\n",
      "       B-person       1.00      0.06      0.11       186\n",
      "      B-product       0.00      0.00      0.00        38\n",
      "  I-corporation       0.00      0.00      0.00        16\n",
      "I-creative-work       0.00      0.00      0.00        53\n",
      "        I-group       0.00      0.00      0.00        51\n",
      "     I-location       0.00      0.00      0.00        83\n",
      "       I-person       0.83      0.05      0.10        93\n",
      "      I-product       0.00      0.00      0.00        51\n",
      "\n",
      "      micro avg       0.95      0.04      0.08       912\n",
      "      macro avg       0.30      0.03      0.05       912\n",
      "   weighted avg       0.51      0.04      0.07       912\n",
      "\n"
     ]
    }
   ],
   "source": [
    "sgd = SGDClassifier()\n",
    "sgd.partial_fit(X_train, y_train, classes)\n",
    "print(classification_report(y_pred=sgd.predict(X_test), y_true=y_test, labels=new_classes))"
   ]
  },
  {
   "cell_type": "markdown",
   "metadata": {},
   "source": [
    "### 2.3 Multinomial Naive Bayes Classifier"
   ]
  },
  {
   "cell_type": "code",
   "execution_count": 24,
   "metadata": {},
   "outputs": [
    {
     "name": "stdout",
     "output_type": "stream",
     "text": [
      "                 precision    recall  f1-score   support\n",
      "\n",
      "  B-corporation       0.90      0.39      0.54        67\n",
      "B-creative-work       0.33      0.02      0.05        41\n",
      "        B-group       0.50      0.15      0.23        68\n",
      "     B-location       0.77      0.26      0.39       165\n",
      "       B-person       0.68      0.25      0.37       186\n",
      "      B-product       0.70      0.18      0.29        38\n",
      "  I-corporation       0.00      0.00      0.00        16\n",
      "I-creative-work       0.00      0.00      0.00        53\n",
      "        I-group       0.38      0.06      0.10        51\n",
      "     I-location       0.42      0.12      0.19        83\n",
      "       I-person       0.67      0.19      0.30        93\n",
      "      I-product       0.60      0.18      0.27        51\n",
      "\n",
      "      micro avg       0.66      0.19      0.30       912\n",
      "      macro avg       0.49      0.15      0.23       912\n",
      "   weighted avg       0.59      0.19      0.29       912\n",
      "\n"
     ]
    }
   ],
   "source": [
    "nb = MultinomialNB(alpha=0.01)\n",
    "nb.partial_fit(X_train, y_train, classes)\n",
    "print(classification_report(y_pred=nb.predict(X_test), y_true=y_test, labels = new_classes))"
   ]
  },
  {
   "cell_type": "markdown",
   "metadata": {},
   "source": [
    "While the precision values are somewhat is the acceptable range, the recall values are very poor and so is their harmonic mean - F1-score. None of the above classifiers produced satisfying results. It is obvious that it is not going to be easy to classify named entities using regular classifiers."
   ]
  },
  {
   "cell_type": "markdown",
   "metadata": {},
   "source": [
    "## 3 - Using Conditional Random Fields\n",
    "#### Conditional random fields (CRFs) are a class of statistical modeling method often applied in pattern recognition and machine learning and used for structured prediction. CRFs is often used for labeling or parsing of sequential data, such as natural language processing and CRFs find applications in POS Tagging, named entity recognition, among others."
   ]
  },
  {
   "cell_type": "markdown",
   "metadata": {},
   "source": [
    "#### Load the data as a list "
   ]
  },
  {
   "cell_type": "code",
   "execution_count": 25,
   "metadata": {},
   "outputs": [],
   "source": [
    "train_data_list = train_data.values.tolist()"
   ]
  },
  {
   "cell_type": "markdown",
   "metadata": {},
   "source": [
    "### Perform POS tagging for every token in the dataset"
   ]
  },
  {
   "cell_type": "code",
   "execution_count": 33,
   "metadata": {},
   "outputs": [
    {
     "name": "stderr",
     "output_type": "stream",
     "text": [
      "[nltk_data] Downloading package averaged_perceptron_tagger to\n",
      "[nltk_data]     C:\\Users\\Sanjeev\n",
      "[nltk_data]     Narayanan\\AppData\\Roaming\\nltk_data...\n",
      "[nltk_data]   Package averaged_perceptron_tagger is already up-to-\n",
      "[nltk_data]       date!\n"
     ]
    },
    {
     "data": {
      "text/plain": [
       "True"
      ]
     },
     "execution_count": 33,
     "metadata": {},
     "output_type": "execute_result"
    }
   ],
   "source": [
    "import nltk\n",
    "import numpy as np\n",
    "nltk.download('averaged_perceptron_tagger')"
   ]
  },
  {
   "cell_type": "code",
   "execution_count": 93,
   "metadata": {},
   "outputs": [],
   "source": [
    "data = []\n",
    "for i, doc in enumerate(train_data_list):\n",
    "    docs = [(doc[0],doc[1])]\n",
    "    tokens = [doc[0]]\n",
    "    tagged = nltk.pos_tag(tokens)\n",
    "    data.append([(w, pos, label) for (w, label), (word, pos) in zip(docs, tagged)])"
   ]
  },
  {
   "cell_type": "markdown",
   "metadata": {},
   "source": [
    "#### How this data variable looks after POS tagging"
   ]
  },
  {
   "cell_type": "code",
   "execution_count": 29,
   "metadata": {},
   "outputs": [
    {
     "data": {
      "text/plain": [
       "[[('@paulwalk', 'NN', 'O')],\n",
       " [('It', 'PRP', 'O')],\n",
       " [(\"'s\", 'POS', 'O')],\n",
       " [('the', 'DT', 'O')],\n",
       " [('view', 'NN', 'O')],\n",
       " [('from', 'IN', 'O')],\n",
       " [('where', 'WRB', 'O')],\n",
       " [('I', 'PRP', 'O')],\n",
       " [(\"'m\", 'VBP', 'O')],\n",
       " [('living', 'NN', 'O')]]"
      ]
     },
     "execution_count": 29,
     "metadata": {},
     "output_type": "execute_result"
    }
   ],
   "source": [
    "data[:10]"
   ]
  },
  {
   "cell_type": "markdown",
   "metadata": {},
   "source": [
    "### Begin training on the CRFsuite"
   ]
  },
  {
   "cell_type": "code",
   "execution_count": 30,
   "metadata": {},
   "outputs": [],
   "source": [
    "from sklearn.model_selection import train_test_split\n",
    "import sklearn_crfsuite\n",
    "from sklearn_crfsuite import metrics"
   ]
  },
  {
   "cell_type": "markdown",
   "metadata": {},
   "source": [
    "#### I will extract more features in the crfsuite format (word parts, simplified POS tags, lower/title/upper flags, features of nearby words)"
   ]
  },
  {
   "cell_type": "code",
   "execution_count": 31,
   "metadata": {},
   "outputs": [],
   "source": [
    "def word2features(doc, i):\n",
    "    word = doc[i][0]\n",
    "    postag = doc[i][1]\n",
    "    features = [\n",
    "        'bias',\n",
    "        'word.lower=' + word.lower(),\n",
    "        'word[-3:]=' + word[-3:],\n",
    "        'word[-2:]=' + word[-2:],\n",
    "        'word.isupper=%s' % word.isupper(),\n",
    "        'word.istitle=%s' % word.istitle(),\n",
    "        'word.isdigit=%s' % word.isdigit(),\n",
    "        'postag=' + postag\n",
    "    ]\n",
    "\n",
    "    # Features for words that are not\n",
    "    # at the beginning of a document\n",
    "    if i > 0:\n",
    "        word1 = doc[i-1][0]\n",
    "        postag1 = doc[i-1][1]\n",
    "        features.extend([\n",
    "            '-1:word.lower=' + word1.lower(),\n",
    "            '-1:word.istitle=%s' % word1.istitle(),\n",
    "            '-1:word.isupper=%s' % word1.isupper(),\n",
    "            '-1:word.isdigit=%s' % word1.isdigit(),\n",
    "            '-1:postag=' + postag1\n",
    "        ])\n",
    "    else:\n",
    "        features.append('BOS')  #Beginning of a sentence\n",
    "    # If we have features at the beginning of a sentence\n",
    "    if i < len(doc)-1:\n",
    "        word1 = doc[i+1][0]\n",
    "        postag1 = doc[i+1][1]\n",
    "        features.extend([\n",
    "            '+1:word.lower=' + word1.lower(),\n",
    "            '+1:word.istitle=%s' % word1.istitle(),\n",
    "            '+1:word.isupper=%s' % word1.isupper(),\n",
    "            '+1:word.isdigit=%s' % word1.isdigit(),\n",
    "            '+1:postag=' + postag1\n",
    "        ])\n",
    "    else:\n",
    "        features.append('EOS') #End of a sentence\n",
    "\n",
    "    return features\n",
    "\n",
    "def extract_features(doc):\n",
    "    return [word2features(doc, i) for i in range(len(doc))]\n",
    "\n",
    "def get_labels(doc):\n",
    "    return [label for (token, postag, label) in doc]\n",
    "\n",
    "def get_tokens(doc):\n",
    "    return [token for token, postag, label in doc]"
   ]
  },
  {
   "cell_type": "code",
   "execution_count": 37,
   "metadata": {},
   "outputs": [],
   "source": [
    "X = [extract_features(doc) for doc in data]\n",
    "y = [get_labels(doc) for doc in data]\n",
    "X_train, X_test, y_train, y_test = train_test_split(X, y, test_size=0.2)"
   ]
  },
  {
   "cell_type": "code",
   "execution_count": 38,
   "metadata": {},
   "outputs": [],
   "source": [
    "crf = sklearn_crfsuite.CRF(algorithm='lbfgs',c1=0.1,c2=0.1,max_iterations=100,all_possible_transitions=True)"
   ]
  },
  {
   "cell_type": "code",
   "execution_count": 39,
   "metadata": {},
   "outputs": [
    {
     "name": "stderr",
     "output_type": "stream",
     "text": [
      "C:\\Users\\Sanjeev Narayanan\\Anaconda3\\lib\\site-packages\\sklearn\\metrics\\classification.py:1437: UndefinedMetricWarning: Precision and F-score are ill-defined and being set to 0.0 in labels with no predicted samples.\n",
      "  'precision', 'predicted', average, warn_for)\n"
     ]
    },
    {
     "name": "stdout",
     "output_type": "stream",
     "text": [
      "                 precision    recall  f1-score   support\n",
      "\n",
      "  B-corporation       0.82      0.51      0.63        45\n",
      "B-creative-work       0.40      0.08      0.13        25\n",
      "        B-group       0.30      0.07      0.12        42\n",
      "     B-location       0.63      0.30      0.40       114\n",
      "       B-person       0.71      0.37      0.48       130\n",
      "      B-product       1.00      0.29      0.45        24\n",
      "  I-corporation       0.00      0.00      0.00         6\n",
      "I-creative-work       0.33      0.11      0.16        28\n",
      "        I-group       0.00      0.00      0.00        26\n",
      "     I-location       0.47      0.18      0.26        39\n",
      "       I-person       0.27      0.08      0.12        51\n",
      "      I-product       0.50      0.06      0.11        33\n",
      "\n",
      "      micro avg       0.61      0.24      0.34       563\n",
      "      macro avg       0.45      0.17      0.24       563\n",
      "   weighted avg       0.54      0.24      0.32       563\n",
      "\n"
     ]
    }
   ],
   "source": [
    "crf.fit(X_train, y_train)\n",
    "y_pred = crf.predict(X_test)\n",
    "print(metrics.flat_classification_report(y_test, y_pred, labels = new_classes))"
   ]
  },
  {
   "cell_type": "markdown",
   "metadata": {},
   "source": [
    "### It is evident that the F1 scores for Conditional Random Field approach is better than regular classifiers. "
   ]
  },
  {
   "cell_type": "markdown",
   "metadata": {},
   "source": [
    "## 4 - Using Deep Learning Methods\n",
    "### I will now look to improve the earlier results using LSTM based methods.\n",
    "#### Data Preparation"
   ]
  },
  {
   "cell_type": "code",
   "execution_count": 80,
   "metadata": {},
   "outputs": [],
   "source": [
    "words = list(set(train_data[\"Name\"].values))\n",
    "n_words = len(words)"
   ]
  },
  {
   "cell_type": "code",
   "execution_count": 81,
   "metadata": {},
   "outputs": [],
   "source": [
    "tags = list(set(train_data[\"Tag\"].values))\n",
    "n_tags = len(tags)"
   ]
  },
  {
   "cell_type": "code",
   "execution_count": 82,
   "metadata": {},
   "outputs": [],
   "source": [
    "labels = [[s[2] for s in sent] for sent in data]\n",
    "sentences = [\" \".join([s[0] for s in sent]) for sent in data]"
   ]
  },
  {
   "cell_type": "code",
   "execution_count": 85,
   "metadata": {},
   "outputs": [],
   "source": [
    "from collections import Counter\n",
    "from keras.preprocessing.sequence import pad_sequences\n",
    "\n",
    "word_cnt = Counter(train_data[\"Name\"].values)\n",
    "vocabulary = set(w[0] for w in word_cnt.most_common(5000))"
   ]
  },
  {
   "cell_type": "code",
   "execution_count": 86,
   "metadata": {},
   "outputs": [],
   "source": [
    "max_len = 50\n",
    "word2idx = {\"PAD\": 0, \"UNK\": 1}\n",
    "word2idx.update({w: i for i, w in enumerate(words) if w in vocabulary})\n",
    "tag2idx = {t: i for i, t in enumerate(tags)}"
   ]
  },
  {
   "cell_type": "code",
   "execution_count": 88,
   "metadata": {},
   "outputs": [],
   "source": [
    "X = [[word2idx.get(w, word2idx[\"UNK\"]) for w in s.split()] for s in sentences]\n",
    "X = pad_sequences(maxlen=max_len, sequences=X, padding=\"post\", value=word2idx[\"PAD\"])"
   ]
  },
  {
   "cell_type": "code",
   "execution_count": 89,
   "metadata": {},
   "outputs": [],
   "source": [
    "y = [[tag2idx[l_i] for l_i in l] for l in labels]\n",
    "y = pad_sequences(maxlen=max_len, sequences=y, padding=\"post\", value=tag2idx[\"O\"])"
   ]
  },
  {
   "cell_type": "code",
   "execution_count": 90,
   "metadata": {},
   "outputs": [],
   "source": [
    "X_tr, X_te, y_tr, y_te = train_test_split(X, y, test_size=0.1, shuffle=False)"
   ]
  },
  {
   "cell_type": "code",
   "execution_count": 91,
   "metadata": {},
   "outputs": [
    {
     "name": "stdout",
     "output_type": "stream",
     "text": [
      "_________________________________________________________________\n",
      "Layer (type)                 Output Shape              Param #   \n",
      "=================================================================\n",
      "input_10 (InputLayer)        (None, 50)                0         \n",
      "_________________________________________________________________\n",
      "embedding_9 (Embedding)      (None, 50, 50)            689700    \n",
      "_________________________________________________________________\n",
      "spatial_dropout1d_4 (Spatial (None, 50, 50)            0         \n",
      "_________________________________________________________________\n",
      "bidirectional_6 (Bidirection (None, 50, 200)           120800    \n",
      "_________________________________________________________________\n",
      "time_distributed_11 (TimeDis (None, 50, 13)            2613      \n",
      "=================================================================\n",
      "Total params: 813,113\n",
      "Trainable params: 813,113\n",
      "Non-trainable params: 0\n",
      "_________________________________________________________________\n"
     ]
    }
   ],
   "source": [
    "from keras.models import Model, Input\n",
    "from keras.layers import LSTM, Embedding, Dense, TimeDistributed, SpatialDropout1D, Bidirectional\n",
    "word_input = Input(shape=(max_len,))\n",
    "model = Embedding(input_dim=n_words, output_dim=50, input_length=max_len)(word_input)\n",
    "model = SpatialDropout1D(0.1)(model)\n",
    "model = Bidirectional(LSTM(units=100, return_sequences=True, recurrent_dropout=0.1))(model)\n",
    "out = TimeDistributed(Dense(n_tags, activation=\"softmax\"))(model)\n",
    "model = Model(word_input, out)\n",
    "model.compile(optimizer=\"rmsprop\",\n",
    "              loss=\"sparse_categorical_crossentropy\",\n",
    "              metrics=[\"accuracy\"])\n",
    "model.summary()"
   ]
  },
  {
   "cell_type": "code",
   "execution_count": 92,
   "metadata": {},
   "outputs": [
    {
     "name": "stdout",
     "output_type": "stream",
     "text": [
      "Train on 45136 samples, validate on 5016 samples\n",
      "Epoch 1/5\n"
     ]
    },
    {
     "ename": "InvalidArgumentError",
     "evalue": "Incompatible shapes: [1600] vs. [32,50]\n\t [[{{node metrics_4/acc/Equal}}]]",
     "output_type": "error",
     "traceback": [
      "\u001b[1;31m---------------------------------------------------------------------------\u001b[0m",
      "\u001b[1;31mInvalidArgumentError\u001b[0m                      Traceback (most recent call last)",
      "\u001b[1;32m<ipython-input-92-f279fa00ca4d>\u001b[0m in \u001b[0;36m<module>\u001b[1;34m\u001b[0m\n\u001b[0;32m      1\u001b[0m history = model.fit(X_tr, y_tr.reshape(*y_tr.shape, 1),\n\u001b[0;32m      2\u001b[0m                     \u001b[0mbatch_size\u001b[0m\u001b[1;33m=\u001b[0m\u001b[1;36m32\u001b[0m\u001b[1;33m,\u001b[0m \u001b[0mepochs\u001b[0m\u001b[1;33m=\u001b[0m\u001b[1;36m5\u001b[0m\u001b[1;33m,\u001b[0m\u001b[1;33m\u001b[0m\u001b[1;33m\u001b[0m\u001b[0m\n\u001b[1;32m----> 3\u001b[1;33m                     validation_split=0.1, verbose=1)\n\u001b[0m",
      "\u001b[1;32m~\\Anaconda3\\lib\\site-packages\\keras\\engine\\training.py\u001b[0m in \u001b[0;36mfit\u001b[1;34m(self, x, y, batch_size, epochs, verbose, callbacks, validation_split, validation_data, shuffle, class_weight, sample_weight, initial_epoch, steps_per_epoch, validation_steps, **kwargs)\u001b[0m\n\u001b[0;32m   1037\u001b[0m                                         \u001b[0minitial_epoch\u001b[0m\u001b[1;33m=\u001b[0m\u001b[0minitial_epoch\u001b[0m\u001b[1;33m,\u001b[0m\u001b[1;33m\u001b[0m\u001b[1;33m\u001b[0m\u001b[0m\n\u001b[0;32m   1038\u001b[0m                                         \u001b[0msteps_per_epoch\u001b[0m\u001b[1;33m=\u001b[0m\u001b[0msteps_per_epoch\u001b[0m\u001b[1;33m,\u001b[0m\u001b[1;33m\u001b[0m\u001b[1;33m\u001b[0m\u001b[0m\n\u001b[1;32m-> 1039\u001b[1;33m                                         validation_steps=validation_steps)\n\u001b[0m\u001b[0;32m   1040\u001b[0m \u001b[1;33m\u001b[0m\u001b[0m\n\u001b[0;32m   1041\u001b[0m     def evaluate(self, x=None, y=None,\n",
      "\u001b[1;32m~\\Anaconda3\\lib\\site-packages\\keras\\engine\\training_arrays.py\u001b[0m in \u001b[0;36mfit_loop\u001b[1;34m(model, f, ins, out_labels, batch_size, epochs, verbose, callbacks, val_f, val_ins, shuffle, callback_metrics, initial_epoch, steps_per_epoch, validation_steps)\u001b[0m\n\u001b[0;32m    197\u001b[0m                     \u001b[0mins_batch\u001b[0m\u001b[1;33m[\u001b[0m\u001b[0mi\u001b[0m\u001b[1;33m]\u001b[0m \u001b[1;33m=\u001b[0m \u001b[0mins_batch\u001b[0m\u001b[1;33m[\u001b[0m\u001b[0mi\u001b[0m\u001b[1;33m]\u001b[0m\u001b[1;33m.\u001b[0m\u001b[0mtoarray\u001b[0m\u001b[1;33m(\u001b[0m\u001b[1;33m)\u001b[0m\u001b[1;33m\u001b[0m\u001b[1;33m\u001b[0m\u001b[0m\n\u001b[0;32m    198\u001b[0m \u001b[1;33m\u001b[0m\u001b[0m\n\u001b[1;32m--> 199\u001b[1;33m                 \u001b[0mouts\u001b[0m \u001b[1;33m=\u001b[0m \u001b[0mf\u001b[0m\u001b[1;33m(\u001b[0m\u001b[0mins_batch\u001b[0m\u001b[1;33m)\u001b[0m\u001b[1;33m\u001b[0m\u001b[1;33m\u001b[0m\u001b[0m\n\u001b[0m\u001b[0;32m    200\u001b[0m                 \u001b[0mouts\u001b[0m \u001b[1;33m=\u001b[0m \u001b[0mto_list\u001b[0m\u001b[1;33m(\u001b[0m\u001b[0mouts\u001b[0m\u001b[1;33m)\u001b[0m\u001b[1;33m\u001b[0m\u001b[1;33m\u001b[0m\u001b[0m\n\u001b[0;32m    201\u001b[0m                 \u001b[1;32mfor\u001b[0m \u001b[0ml\u001b[0m\u001b[1;33m,\u001b[0m \u001b[0mo\u001b[0m \u001b[1;32min\u001b[0m \u001b[0mzip\u001b[0m\u001b[1;33m(\u001b[0m\u001b[0mout_labels\u001b[0m\u001b[1;33m,\u001b[0m \u001b[0mouts\u001b[0m\u001b[1;33m)\u001b[0m\u001b[1;33m:\u001b[0m\u001b[1;33m\u001b[0m\u001b[1;33m\u001b[0m\u001b[0m\n",
      "\u001b[1;32m~\\Anaconda3\\lib\\site-packages\\keras\\backend\\tensorflow_backend.py\u001b[0m in \u001b[0;36m__call__\u001b[1;34m(self, inputs)\u001b[0m\n\u001b[0;32m   2713\u001b[0m                 \u001b[1;32mreturn\u001b[0m \u001b[0mself\u001b[0m\u001b[1;33m.\u001b[0m\u001b[0m_legacy_call\u001b[0m\u001b[1;33m(\u001b[0m\u001b[0minputs\u001b[0m\u001b[1;33m)\u001b[0m\u001b[1;33m\u001b[0m\u001b[1;33m\u001b[0m\u001b[0m\n\u001b[0;32m   2714\u001b[0m \u001b[1;33m\u001b[0m\u001b[0m\n\u001b[1;32m-> 2715\u001b[1;33m             \u001b[1;32mreturn\u001b[0m \u001b[0mself\u001b[0m\u001b[1;33m.\u001b[0m\u001b[0m_call\u001b[0m\u001b[1;33m(\u001b[0m\u001b[0minputs\u001b[0m\u001b[1;33m)\u001b[0m\u001b[1;33m\u001b[0m\u001b[1;33m\u001b[0m\u001b[0m\n\u001b[0m\u001b[0;32m   2716\u001b[0m         \u001b[1;32melse\u001b[0m\u001b[1;33m:\u001b[0m\u001b[1;33m\u001b[0m\u001b[1;33m\u001b[0m\u001b[0m\n\u001b[0;32m   2717\u001b[0m             \u001b[1;32mif\u001b[0m \u001b[0mpy_any\u001b[0m\u001b[1;33m(\u001b[0m\u001b[0mis_tensor\u001b[0m\u001b[1;33m(\u001b[0m\u001b[0mx\u001b[0m\u001b[1;33m)\u001b[0m \u001b[1;32mfor\u001b[0m \u001b[0mx\u001b[0m \u001b[1;32min\u001b[0m \u001b[0minputs\u001b[0m\u001b[1;33m)\u001b[0m\u001b[1;33m:\u001b[0m\u001b[1;33m\u001b[0m\u001b[1;33m\u001b[0m\u001b[0m\n",
      "\u001b[1;32m~\\Anaconda3\\lib\\site-packages\\keras\\backend\\tensorflow_backend.py\u001b[0m in \u001b[0;36m_call\u001b[1;34m(self, inputs)\u001b[0m\n\u001b[0;32m   2673\u001b[0m             \u001b[0mfetched\u001b[0m \u001b[1;33m=\u001b[0m \u001b[0mself\u001b[0m\u001b[1;33m.\u001b[0m\u001b[0m_callable_fn\u001b[0m\u001b[1;33m(\u001b[0m\u001b[1;33m*\u001b[0m\u001b[0marray_vals\u001b[0m\u001b[1;33m,\u001b[0m \u001b[0mrun_metadata\u001b[0m\u001b[1;33m=\u001b[0m\u001b[0mself\u001b[0m\u001b[1;33m.\u001b[0m\u001b[0mrun_metadata\u001b[0m\u001b[1;33m)\u001b[0m\u001b[1;33m\u001b[0m\u001b[1;33m\u001b[0m\u001b[0m\n\u001b[0;32m   2674\u001b[0m         \u001b[1;32melse\u001b[0m\u001b[1;33m:\u001b[0m\u001b[1;33m\u001b[0m\u001b[1;33m\u001b[0m\u001b[0m\n\u001b[1;32m-> 2675\u001b[1;33m             \u001b[0mfetched\u001b[0m \u001b[1;33m=\u001b[0m \u001b[0mself\u001b[0m\u001b[1;33m.\u001b[0m\u001b[0m_callable_fn\u001b[0m\u001b[1;33m(\u001b[0m\u001b[1;33m*\u001b[0m\u001b[0marray_vals\u001b[0m\u001b[1;33m)\u001b[0m\u001b[1;33m\u001b[0m\u001b[1;33m\u001b[0m\u001b[0m\n\u001b[0m\u001b[0;32m   2676\u001b[0m         \u001b[1;32mreturn\u001b[0m \u001b[0mfetched\u001b[0m\u001b[1;33m[\u001b[0m\u001b[1;33m:\u001b[0m\u001b[0mlen\u001b[0m\u001b[1;33m(\u001b[0m\u001b[0mself\u001b[0m\u001b[1;33m.\u001b[0m\u001b[0moutputs\u001b[0m\u001b[1;33m)\u001b[0m\u001b[1;33m]\u001b[0m\u001b[1;33m\u001b[0m\u001b[1;33m\u001b[0m\u001b[0m\n\u001b[0;32m   2677\u001b[0m \u001b[1;33m\u001b[0m\u001b[0m\n",
      "\u001b[1;32m~\\Anaconda3\\lib\\site-packages\\tensorflow\\python\\client\\session.py\u001b[0m in \u001b[0;36m__call__\u001b[1;34m(self, *args, **kwargs)\u001b[0m\n\u001b[0;32m   1456\u001b[0m         ret = tf_session.TF_SessionRunCallable(self._session._session,\n\u001b[0;32m   1457\u001b[0m                                                \u001b[0mself\u001b[0m\u001b[1;33m.\u001b[0m\u001b[0m_handle\u001b[0m\u001b[1;33m,\u001b[0m \u001b[0margs\u001b[0m\u001b[1;33m,\u001b[0m\u001b[1;33m\u001b[0m\u001b[1;33m\u001b[0m\u001b[0m\n\u001b[1;32m-> 1458\u001b[1;33m                                                run_metadata_ptr)\n\u001b[0m\u001b[0;32m   1459\u001b[0m         \u001b[1;32mif\u001b[0m \u001b[0mrun_metadata\u001b[0m\u001b[1;33m:\u001b[0m\u001b[1;33m\u001b[0m\u001b[1;33m\u001b[0m\u001b[0m\n\u001b[0;32m   1460\u001b[0m           \u001b[0mproto_data\u001b[0m \u001b[1;33m=\u001b[0m \u001b[0mtf_session\u001b[0m\u001b[1;33m.\u001b[0m\u001b[0mTF_GetBuffer\u001b[0m\u001b[1;33m(\u001b[0m\u001b[0mrun_metadata_ptr\u001b[0m\u001b[1;33m)\u001b[0m\u001b[1;33m\u001b[0m\u001b[1;33m\u001b[0m\u001b[0m\n",
      "\u001b[1;31mInvalidArgumentError\u001b[0m: Incompatible shapes: [1600] vs. [32,50]\n\t [[{{node metrics_4/acc/Equal}}]]"
     ]
    }
   ],
   "source": [
    "history = model.fit(X_tr, y_tr.reshape(*y_tr.shape, 1),\n",
    "                    batch_size=32, epochs=5,\n",
    "                    validation_split=0.1, verbose=1)"
   ]
  },
  {
   "cell_type": "code",
   "execution_count": null,
   "metadata": {},
   "outputs": [],
   "source": []
  }
 ],
 "metadata": {
  "kernelspec": {
   "display_name": "Python 3",
   "language": "python",
   "name": "python3"
  },
  "language_info": {
   "codemirror_mode": {
    "name": "ipython",
    "version": 3
   },
   "file_extension": ".py",
   "mimetype": "text/x-python",
   "name": "python",
   "nbconvert_exporter": "python",
   "pygments_lexer": "ipython3",
   "version": "3.7.3"
  }
 },
 "nbformat": 4,
 "nbformat_minor": 2
}
